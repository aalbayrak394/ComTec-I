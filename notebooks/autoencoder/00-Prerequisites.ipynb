{
 "cells": [
  {
   "cell_type": "code",
   "id": "initial_id",
   "metadata": {
    "collapsed": true,
    "ExecuteTime": {
     "end_time": "2024-07-19T21:21:02.204737Z",
     "start_time": "2024-07-19T21:20:56.643151Z"
    }
   },
   "source": [
    "!pip install torch\n",
    "!pip install torchvision\n",
    "!pip install matplotlib\n",
    "!pip install numpy"
   ],
   "outputs": [
    {
     "name": "stdout",
     "output_type": "stream",
     "text": [
      "Requirement already satisfied: torch in c:\\users\\mwenn\\pycharmprojects\\comtec-i\\venv\\lib\\site-packages (2.3.1)\n",
      "Requirement already satisfied: filelock in c:\\users\\mwenn\\pycharmprojects\\comtec-i\\venv\\lib\\site-packages (from torch) (3.15.4)\n",
      "Requirement already satisfied: typing-extensions>=4.8.0 in c:\\users\\mwenn\\pycharmprojects\\comtec-i\\venv\\lib\\site-packages (from torch) (4.12.2)\n",
      "Requirement already satisfied: sympy in c:\\users\\mwenn\\pycharmprojects\\comtec-i\\venv\\lib\\site-packages (from torch) (1.13.0)\n",
      "Requirement already satisfied: networkx in c:\\users\\mwenn\\pycharmprojects\\comtec-i\\venv\\lib\\site-packages (from torch) (3.3)\n",
      "Requirement already satisfied: jinja2 in c:\\users\\mwenn\\pycharmprojects\\comtec-i\\venv\\lib\\site-packages (from torch) (3.1.4)\n",
      "Requirement already satisfied: fsspec in c:\\users\\mwenn\\pycharmprojects\\comtec-i\\venv\\lib\\site-packages (from torch) (2024.6.1)\n",
      "Requirement already satisfied: mkl<=2021.4.0,>=2021.1.1 in c:\\users\\mwenn\\pycharmprojects\\comtec-i\\venv\\lib\\site-packages (from torch) (2021.4.0)\n",
      "Requirement already satisfied: intel-openmp==2021.* in c:\\users\\mwenn\\pycharmprojects\\comtec-i\\venv\\lib\\site-packages (from mkl<=2021.4.0,>=2021.1.1->torch) (2021.4.0)\n",
      "Requirement already satisfied: tbb==2021.* in c:\\users\\mwenn\\pycharmprojects\\comtec-i\\venv\\lib\\site-packages (from mkl<=2021.4.0,>=2021.1.1->torch) (2021.13.0)\n",
      "Requirement already satisfied: MarkupSafe>=2.0 in c:\\users\\mwenn\\pycharmprojects\\comtec-i\\venv\\lib\\site-packages (from jinja2->torch) (2.1.5)\n",
      "Requirement already satisfied: mpmath<1.4,>=1.1.0 in c:\\users\\mwenn\\pycharmprojects\\comtec-i\\venv\\lib\\site-packages (from sympy->torch) (1.3.0)\n",
      "Requirement already satisfied: torchvision in c:\\users\\mwenn\\pycharmprojects\\comtec-i\\venv\\lib\\site-packages (0.18.1)\n",
      "Requirement already satisfied: numpy in c:\\users\\mwenn\\pycharmprojects\\comtec-i\\venv\\lib\\site-packages (from torchvision) (2.0.0)\n",
      "Requirement already satisfied: torch==2.3.1 in c:\\users\\mwenn\\pycharmprojects\\comtec-i\\venv\\lib\\site-packages (from torchvision) (2.3.1)\n",
      "Requirement already satisfied: pillow!=8.3.*,>=5.3.0 in c:\\users\\mwenn\\pycharmprojects\\comtec-i\\venv\\lib\\site-packages (from torchvision) (10.4.0)\n",
      "Requirement already satisfied: filelock in c:\\users\\mwenn\\pycharmprojects\\comtec-i\\venv\\lib\\site-packages (from torch==2.3.1->torchvision) (3.15.4)\n",
      "Requirement already satisfied: typing-extensions>=4.8.0 in c:\\users\\mwenn\\pycharmprojects\\comtec-i\\venv\\lib\\site-packages (from torch==2.3.1->torchvision) (4.12.2)\n",
      "Requirement already satisfied: sympy in c:\\users\\mwenn\\pycharmprojects\\comtec-i\\venv\\lib\\site-packages (from torch==2.3.1->torchvision) (1.13.0)\n",
      "Requirement already satisfied: networkx in c:\\users\\mwenn\\pycharmprojects\\comtec-i\\venv\\lib\\site-packages (from torch==2.3.1->torchvision) (3.3)\n",
      "Requirement already satisfied: jinja2 in c:\\users\\mwenn\\pycharmprojects\\comtec-i\\venv\\lib\\site-packages (from torch==2.3.1->torchvision) (3.1.4)\n",
      "Requirement already satisfied: fsspec in c:\\users\\mwenn\\pycharmprojects\\comtec-i\\venv\\lib\\site-packages (from torch==2.3.1->torchvision) (2024.6.1)\n",
      "Requirement already satisfied: mkl<=2021.4.0,>=2021.1.1 in c:\\users\\mwenn\\pycharmprojects\\comtec-i\\venv\\lib\\site-packages (from torch==2.3.1->torchvision) (2021.4.0)\n",
      "Requirement already satisfied: intel-openmp==2021.* in c:\\users\\mwenn\\pycharmprojects\\comtec-i\\venv\\lib\\site-packages (from mkl<=2021.4.0,>=2021.1.1->torch==2.3.1->torchvision) (2021.4.0)\n",
      "Requirement already satisfied: tbb==2021.* in c:\\users\\mwenn\\pycharmprojects\\comtec-i\\venv\\lib\\site-packages (from mkl<=2021.4.0,>=2021.1.1->torch==2.3.1->torchvision) (2021.13.0)\n",
      "Requirement already satisfied: MarkupSafe>=2.0 in c:\\users\\mwenn\\pycharmprojects\\comtec-i\\venv\\lib\\site-packages (from jinja2->torch==2.3.1->torchvision) (2.1.5)\n",
      "Requirement already satisfied: mpmath<1.4,>=1.1.0 in c:\\users\\mwenn\\pycharmprojects\\comtec-i\\venv\\lib\\site-packages (from sympy->torch==2.3.1->torchvision) (1.3.0)\n",
      "Requirement already satisfied: matplotlib in c:\\users\\mwenn\\pycharmprojects\\comtec-i\\venv\\lib\\site-packages (3.9.1)\n",
      "Requirement already satisfied: contourpy>=1.0.1 in c:\\users\\mwenn\\pycharmprojects\\comtec-i\\venv\\lib\\site-packages (from matplotlib) (1.2.1)\n",
      "Requirement already satisfied: cycler>=0.10 in c:\\users\\mwenn\\pycharmprojects\\comtec-i\\venv\\lib\\site-packages (from matplotlib) (0.12.1)\n",
      "Requirement already satisfied: fonttools>=4.22.0 in c:\\users\\mwenn\\pycharmprojects\\comtec-i\\venv\\lib\\site-packages (from matplotlib) (4.53.1)\n",
      "Requirement already satisfied: kiwisolver>=1.3.1 in c:\\users\\mwenn\\pycharmprojects\\comtec-i\\venv\\lib\\site-packages (from matplotlib) (1.4.5)\n",
      "Requirement already satisfied: numpy>=1.23 in c:\\users\\mwenn\\pycharmprojects\\comtec-i\\venv\\lib\\site-packages (from matplotlib) (2.0.0)\n",
      "Requirement already satisfied: packaging>=20.0 in c:\\users\\mwenn\\pycharmprojects\\comtec-i\\venv\\lib\\site-packages (from matplotlib) (24.1)\n",
      "Requirement already satisfied: pillow>=8 in c:\\users\\mwenn\\pycharmprojects\\comtec-i\\venv\\lib\\site-packages (from matplotlib) (10.4.0)\n",
      "Requirement already satisfied: pyparsing>=2.3.1 in c:\\users\\mwenn\\pycharmprojects\\comtec-i\\venv\\lib\\site-packages (from matplotlib) (3.1.2)\n",
      "Requirement already satisfied: python-dateutil>=2.7 in c:\\users\\mwenn\\pycharmprojects\\comtec-i\\venv\\lib\\site-packages (from matplotlib) (2.9.0.post0)\n",
      "Requirement already satisfied: six>=1.5 in c:\\users\\mwenn\\pycharmprojects\\comtec-i\\venv\\lib\\site-packages (from python-dateutil>=2.7->matplotlib) (1.16.0)\n",
      "Requirement already satisfied: numpy in c:\\users\\mwenn\\pycharmprojects\\comtec-i\\venv\\lib\\site-packages (2.0.0)\n"
     ]
    }
   ],
   "execution_count": 1
  },
  {
   "metadata": {},
   "cell_type": "code",
   "outputs": [],
   "execution_count": null,
   "source": "",
   "id": "26fc28d820d8892a"
  }
 ],
 "metadata": {
  "kernelspec": {
   "display_name": "Python 3",
   "language": "python",
   "name": "python3"
  },
  "language_info": {
   "codemirror_mode": {
    "name": "ipython",
    "version": 2
   },
   "file_extension": ".py",
   "mimetype": "text/x-python",
   "name": "python",
   "nbconvert_exporter": "python",
   "pygments_lexer": "ipython2",
   "version": "2.7.6"
  }
 },
 "nbformat": 4,
 "nbformat_minor": 5
}
