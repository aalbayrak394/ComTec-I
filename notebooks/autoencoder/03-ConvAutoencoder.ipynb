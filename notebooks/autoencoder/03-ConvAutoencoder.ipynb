{
 "cells": [
  {
   "metadata": {},
   "cell_type": "markdown",
   "source": "## LSTM AUTOENCODER",
   "id": "ab7d2f664fbd97f6"
  },
  {
   "metadata": {
    "ExecuteTime": {
     "end_time": "2024-07-20T10:58:05.728663Z",
     "start_time": "2024-07-20T10:58:05.725193Z"
    }
   },
   "cell_type": "code",
   "source": [
    "# Parts of this code are inspired by \n",
    "# GeeksforGeeks (2022): Implementing an Autoencoder in PyTorch. Available online at https://www.geeksforgeeks.org/implementing-an-autoencoder-in-pytorch/, updated on 7/7/2022, checked on 7/16/2024."
   ],
   "id": "initial_id",
   "outputs": [],
   "execution_count": 1
  },
  {
   "metadata": {
    "ExecuteTime": {
     "end_time": "2024-07-20T10:58:07.517874Z",
     "start_time": "2024-07-20T10:58:05.734670Z"
    }
   },
   "cell_type": "code",
   "source": [
    "import torch\n",
    "import matplotlib.pyplot as plt\n",
    "from dataset.cycling_dataset import TorchCyclingDataset\n",
    "from notebooks.autoencoder.conv_ae import CONV_AE\n",
    "\n",
    "from tqdm import tqdm\n",
    "from statistics import mean"
   ],
   "id": "95ff0b14496232a5",
   "outputs": [
    {
     "name": "stderr",
     "output_type": "stream",
     "text": [
      "\n",
      "A module that was compiled using NumPy 1.x cannot be run in\n",
      "NumPy 2.0.0 as it may crash. To support both 1.x and 2.x\n",
      "versions of NumPy, modules must be compiled with NumPy 2.0.\n",
      "Some module may need to rebuild instead e.g. with 'pybind11>=2.12'.\n",
      "\n",
      "If you are a user of the module, the easiest solution will be to\n",
      "downgrade to 'numpy<2' or try to upgrade the affected module.\n",
      "We expect that some modules will need time to support NumPy 2.\n",
      "\n",
      "Traceback (most recent call last):  File \"<frozen runpy>\", line 198, in _run_module_as_main\n",
      "  File \"<frozen runpy>\", line 88, in _run_code\n",
      "  File \"C:\\Users\\mwenn\\PycharmProjects\\ComTec-I\\venv\\Lib\\site-packages\\ipykernel_launcher.py\", line 18, in <module>\n",
      "    app.launch_new_instance()\n",
      "  File \"C:\\Users\\mwenn\\PycharmProjects\\ComTec-I\\venv\\Lib\\site-packages\\traitlets\\config\\application.py\", line 1075, in launch_instance\n",
      "    app.start()\n",
      "  File \"C:\\Users\\mwenn\\PycharmProjects\\ComTec-I\\venv\\Lib\\site-packages\\ipykernel\\kernelapp.py\", line 739, in start\n",
      "    self.io_loop.start()\n",
      "  File \"C:\\Users\\mwenn\\PycharmProjects\\ComTec-I\\venv\\Lib\\site-packages\\tornado\\platform\\asyncio.py\", line 205, in start\n",
      "    self.asyncio_loop.run_forever()\n",
      "  File \"C:\\Program Files\\WindowsApps\\PythonSoftwareFoundation.Python.3.12_3.12.1264.0_x64__qbz5n2kfra8p0\\Lib\\asyncio\\base_events.py\", line 641, in run_forever\n",
      "    self._run_once()\n",
      "  File \"C:\\Program Files\\WindowsApps\\PythonSoftwareFoundation.Python.3.12_3.12.1264.0_x64__qbz5n2kfra8p0\\Lib\\asyncio\\base_events.py\", line 1987, in _run_once\n",
      "    handle._run()\n",
      "  File \"C:\\Program Files\\WindowsApps\\PythonSoftwareFoundation.Python.3.12_3.12.1264.0_x64__qbz5n2kfra8p0\\Lib\\asyncio\\events.py\", line 88, in _run\n",
      "    self._context.run(self._callback, *self._args)\n",
      "  File \"C:\\Users\\mwenn\\PycharmProjects\\ComTec-I\\venv\\Lib\\site-packages\\ipykernel\\kernelbase.py\", line 545, in dispatch_queue\n",
      "    await self.process_one()\n",
      "  File \"C:\\Users\\mwenn\\PycharmProjects\\ComTec-I\\venv\\Lib\\site-packages\\ipykernel\\kernelbase.py\", line 534, in process_one\n",
      "    await dispatch(*args)\n",
      "  File \"C:\\Users\\mwenn\\PycharmProjects\\ComTec-I\\venv\\Lib\\site-packages\\ipykernel\\kernelbase.py\", line 437, in dispatch_shell\n",
      "    await result\n",
      "  File \"C:\\Users\\mwenn\\PycharmProjects\\ComTec-I\\venv\\Lib\\site-packages\\ipykernel\\ipkernel.py\", line 362, in execute_request\n",
      "    await super().execute_request(stream, ident, parent)\n",
      "  File \"C:\\Users\\mwenn\\PycharmProjects\\ComTec-I\\venv\\Lib\\site-packages\\ipykernel\\kernelbase.py\", line 778, in execute_request\n",
      "    reply_content = await reply_content\n",
      "  File \"C:\\Users\\mwenn\\PycharmProjects\\ComTec-I\\venv\\Lib\\site-packages\\ipykernel\\ipkernel.py\", line 449, in do_execute\n",
      "    res = shell.run_cell(\n",
      "  File \"C:\\Users\\mwenn\\PycharmProjects\\ComTec-I\\venv\\Lib\\site-packages\\ipykernel\\zmqshell.py\", line 549, in run_cell\n",
      "    return super().run_cell(*args, **kwargs)\n",
      "  File \"C:\\Users\\mwenn\\PycharmProjects\\ComTec-I\\venv\\Lib\\site-packages\\IPython\\core\\interactiveshell.py\", line 3075, in run_cell\n",
      "    result = self._run_cell(\n",
      "  File \"C:\\Users\\mwenn\\PycharmProjects\\ComTec-I\\venv\\Lib\\site-packages\\IPython\\core\\interactiveshell.py\", line 3130, in _run_cell\n",
      "    result = runner(coro)\n",
      "  File \"C:\\Users\\mwenn\\PycharmProjects\\ComTec-I\\venv\\Lib\\site-packages\\IPython\\core\\async_helpers.py\", line 128, in _pseudo_sync_runner\n",
      "    coro.send(None)\n",
      "  File \"C:\\Users\\mwenn\\PycharmProjects\\ComTec-I\\venv\\Lib\\site-packages\\IPython\\core\\interactiveshell.py\", line 3334, in run_cell_async\n",
      "    has_raised = await self.run_ast_nodes(code_ast.body, cell_name,\n",
      "  File \"C:\\Users\\mwenn\\PycharmProjects\\ComTec-I\\venv\\Lib\\site-packages\\IPython\\core\\interactiveshell.py\", line 3517, in run_ast_nodes\n",
      "    if await self.run_code(code, result, async_=asy):\n",
      "  File \"C:\\Users\\mwenn\\PycharmProjects\\ComTec-I\\venv\\Lib\\site-packages\\IPython\\core\\interactiveshell.py\", line 3577, in run_code\n",
      "    exec(code_obj, self.user_global_ns, self.user_ns)\n",
      "  File \"C:\\Users\\mwenn\\AppData\\Local\\Temp\\ipykernel_14656\\2910406505.py\", line 1, in <module>\n",
      "    import torch\n",
      "  File \"C:\\Users\\mwenn\\PycharmProjects\\ComTec-I\\venv\\Lib\\site-packages\\torch\\__init__.py\", line 1477, in <module>\n",
      "    from .functional import *  # noqa: F403\n",
      "  File \"C:\\Users\\mwenn\\PycharmProjects\\ComTec-I\\venv\\Lib\\site-packages\\torch\\functional.py\", line 9, in <module>\n",
      "    import torch.nn.functional as F\n",
      "  File \"C:\\Users\\mwenn\\PycharmProjects\\ComTec-I\\venv\\Lib\\site-packages\\torch\\nn\\__init__.py\", line 1, in <module>\n",
      "    from .modules import *  # noqa: F403\n",
      "  File \"C:\\Users\\mwenn\\PycharmProjects\\ComTec-I\\venv\\Lib\\site-packages\\torch\\nn\\modules\\__init__.py\", line 35, in <module>\n",
      "    from .transformer import TransformerEncoder, TransformerDecoder, \\\n",
      "  File \"C:\\Users\\mwenn\\PycharmProjects\\ComTec-I\\venv\\Lib\\site-packages\\torch\\nn\\modules\\transformer.py\", line 20, in <module>\n",
      "    device: torch.device = torch.device(torch._C._get_default_device()),  # torch.device('cpu'),\n",
      "C:\\Users\\mwenn\\PycharmProjects\\ComTec-I\\venv\\Lib\\site-packages\\torch\\nn\\modules\\transformer.py:20: UserWarning: Failed to initialize NumPy: _ARRAY_API not found (Triggered internally at ..\\torch\\csrc\\utils\\tensor_numpy.cpp:84.)\n",
      "  device: torch.device = torch.device(torch._C._get_default_device()),  # torch.device('cpu'),\n"
     ]
    }
   ],
   "execution_count": 2
  },
  {
   "metadata": {
    "ExecuteTime": {
     "end_time": "2024-07-20T10:58:07.521882Z",
     "start_time": "2024-07-20T10:58:07.518880Z"
    }
   },
   "cell_type": "code",
   "source": "BATCH_SIZE = 8",
   "id": "f3bcfe2a6f7df81a",
   "outputs": [],
   "execution_count": 3
  },
  {
   "metadata": {
    "ExecuteTime": {
     "end_time": "2024-07-20T10:58:07.527817Z",
     "start_time": "2024-07-20T10:58:07.522933Z"
    }
   },
   "cell_type": "code",
   "source": [
    "def plot(losses):\n",
    "    # Defining the Plot Style\n",
    "    plt.style.use('fivethirtyeight')\n",
    "    plt.xlabel('Epoch')\n",
    "    plt.ylabel('Loss')\n",
    "     \n",
    "    # Plotting\n",
    "    plt.plot(losses)"
   ],
   "id": "fe9f436b96b73807",
   "outputs": [],
   "execution_count": 4
  },
  {
   "metadata": {
    "ExecuteTime": {
     "end_time": "2024-07-20T10:58:07.595403Z",
     "start_time": "2024-07-20T10:58:07.528823Z"
    }
   },
   "cell_type": "code",
   "source": [
    "# Load preprocessed datasets\n",
    "backwheel_test = TorchCyclingDataset(file_path_acc=\"../../data/preprocessed/backwheel_acc_test.h5\",\n",
    "                             file_path_gyro=\"../../data/preprocessed/backwheel_gyro_test.h5\")\n",
    "backwheel_train = TorchCyclingDataset(file_path_acc=\"../../data/preprocessed/backwheel_acc_train.h5\",\n",
    "                              file_path_gyro=\"../../data/preprocessed/backwheel_gyro_train.h5\")\n",
    "\n",
    "handlebar_test = TorchCyclingDataset(file_path_acc=\"../../data/preprocessed/handlebar_acc_test.h5\",\n",
    "                             file_path_gyro=\"../../data/preprocessed/handlebar_gyro_test.h5\")\n",
    "handlebar_train = TorchCyclingDataset(file_path_acc=\"../../data/preprocessed/handlebar_acc_train.h5\",\n",
    "                              file_path_gyro=\"../../data/preprocessed/handlebar_gyro_train.h5\")"
   ],
   "id": "7d5e332b614ffba",
   "outputs": [],
   "execution_count": 5
  },
  {
   "metadata": {
    "ExecuteTime": {
     "end_time": "2024-07-20T10:58:07.600090Z",
     "start_time": "2024-07-20T10:58:07.596409Z"
    }
   },
   "cell_type": "code",
   "source": [
    "# DataLoader is used to load the dataset \n",
    "# for training\n",
    "backwheel_test_loader = torch.utils.data.DataLoader(dataset = backwheel_test,\n",
    "                                     batch_size = BATCH_SIZE,\n",
    "                                     shuffle = True)\n",
    "backwheel_train_loader = torch.utils.data.DataLoader(dataset = backwheel_train,\n",
    "                                     batch_size = BATCH_SIZE,\n",
    "                                     shuffle = True)\n",
    "\n",
    "handlebar_test_loader = torch.utils.data.DataLoader(dataset = handlebar_test,\n",
    "                                     batch_size = BATCH_SIZE,\n",
    "                                     shuffle = True)\n",
    "handlebar_train_loader = torch.utils.data.DataLoader(dataset = handlebar_train,\n",
    "                                     batch_size = BATCH_SIZE,\n",
    "                                     shuffle = True)"
   ],
   "id": "c401e708525870e2",
   "outputs": [],
   "execution_count": 6
  },
  {
   "metadata": {
    "ExecuteTime": {
     "end_time": "2024-07-20T10:58:07.609182Z",
     "start_time": "2024-07-20T10:58:07.600090Z"
    }
   },
   "cell_type": "code",
   "source": "next(iter(handlebar_train_loader))[0].shape",
   "id": "c01aa5c7fa7b7442",
   "outputs": [
    {
     "data": {
      "text/plain": [
       "torch.Size([100, 6])"
      ]
     },
     "execution_count": 7,
     "metadata": {},
     "output_type": "execute_result"
    }
   ],
   "execution_count": 7
  },
  {
   "metadata": {
    "ExecuteTime": {
     "end_time": "2024-07-20T10:58:07.614486Z",
     "start_time": "2024-07-20T10:58:07.610190Z"
    }
   },
   "cell_type": "code",
   "source": [
    "# from https://github.com/shobrook/sequitur/blob/master/sequitur/quick_train.py, 2024-07-20\n",
    "\n",
    "def train_model(model, train_set, verbose, lr, epochs):\n",
    "    # model.to(device)\n",
    "    optimizer = torch.optim.Adam(model.parameters(), lr=lr)\n",
    "    criterion = torch.nn.MSELoss()\n",
    "\n",
    "    mean_losses = []\n",
    "    for epoch in tqdm(range(1, epochs + 1)):\n",
    "        model.train()\n",
    "\n",
    "        losses = []\n",
    "        for batch in train_set:\n",
    "            for x in batch:\n",
    "                optimizer.zero_grad()\n",
    "                # Forward pass\n",
    "                x_prime = model(x)\n",
    "    \n",
    "                loss = criterion(x_prime, x)\n",
    "    \n",
    "                # Backward pass\n",
    "                loss.backward()\n",
    "                optimizer.step()\n",
    "    \n",
    "                losses.append(loss.item())\n",
    "\n",
    "        mean_loss = mean(losses)\n",
    "        mean_losses.append(mean_loss)\n",
    "\n",
    "        if verbose:\n",
    "            print(f\"Epoch: {epoch}, Loss: {mean_loss}\")\n",
    "            \n",
    "        torch.save(model.state_dict(), f'./saved_models/conv_encoder/conv_encoder-{epoch:0>{3}}_epoch.pt')\n",
    "        \n",
    "        # Plot per epoch\n",
    "        plot(mean_losses)\n",
    "\n",
    "    return mean_losses"
   ],
   "id": "17512a0dbdd01d62",
   "outputs": [],
   "execution_count": 8
  },
  {
   "metadata": {
    "ExecuteTime": {
     "end_time": "2024-07-20T10:58:07.620416Z",
     "start_time": "2024-07-20T10:58:07.614486Z"
    }
   },
   "cell_type": "code",
   "source": [
    "# Autoencoder model\n",
    "model = CONV_AE(input_dims=[6],\n",
    "                encoding_dim=2,\n",
    "                kernel=2,\n",
    "                stride=1,\n",
    "                in_channels=100\n",
    "                )"
   ],
   "id": "7574bd17107323a0",
   "outputs": [],
   "execution_count": 9
  },
  {
   "metadata": {
    "ExecuteTime": {
     "end_time": "2024-07-20T10:58:07.625394Z",
     "start_time": "2024-07-20T10:58:07.621421Z"
    }
   },
   "cell_type": "code",
   "source": "model.encoder",
   "id": "8cac59ea18f37c97",
   "outputs": [
    {
     "data": {
      "text/plain": [
       "Sequential(\n",
       "  (0): ConvUnit(\n",
       "    (conv): Conv1d(100, 1, kernel_size=(2,), stride=(1,))\n",
       "    (relu): ReLU()\n",
       "  )\n",
       "  (1): Flatten()\n",
       "  (2): Linear(in_features=5, out_features=2, bias=True)\n",
       ")"
      ]
     },
     "execution_count": 10,
     "metadata": {},
     "output_type": "execute_result"
    }
   ],
   "execution_count": 10
  },
  {
   "metadata": {
    "ExecuteTime": {
     "end_time": "2024-07-20T10:58:07.631065Z",
     "start_time": "2024-07-20T10:58:07.626399Z"
    }
   },
   "cell_type": "code",
   "source": "model.decoder",
   "id": "169d4fb1f9aba9a7",
   "outputs": [
    {
     "data": {
      "text/plain": [
       "<bound method CONV_AE.decoder of CONV_AE(\n",
       "  (decoder_layers): ModuleList(\n",
       "    (0): Linear(in_features=2, out_features=5, bias=True)\n",
       "    (1): UnFlatten()\n",
       "    (2): DeConvUnit(\n",
       "      (deconv): ConvTranspose1d(1, 100, kernel_size=(2,), stride=(1,))\n",
       "      (relu): ReLU()\n",
       "    )\n",
       "  )\n",
       "  (encoder): Sequential(\n",
       "    (0): ConvUnit(\n",
       "      (conv): Conv1d(100, 1, kernel_size=(2,), stride=(1,))\n",
       "      (relu): ReLU()\n",
       "    )\n",
       "    (1): Flatten()\n",
       "    (2): Linear(in_features=5, out_features=2, bias=True)\n",
       "  )\n",
       ")>"
      ]
     },
     "execution_count": 11,
     "metadata": {},
     "output_type": "execute_result"
    }
   ],
   "execution_count": 11
  },
  {
   "metadata": {
    "ExecuteTime": {
     "end_time": "2024-07-20T11:13:08.457674Z",
     "start_time": "2024-07-20T10:58:07.631065Z"
    }
   },
   "cell_type": "code",
   "source": [
    "epochs = 100\n",
    "mean_losses = train_model(model, handlebar_train_loader, verbose=False, lr=1e-3, epochs=epochs)"
   ],
   "id": "b85ade9884f6210f",
   "outputs": [
    {
     "name": "stderr",
     "output_type": "stream",
     "text": [
      "  0%|          | 0/100 [00:00<?, ?it/s]C:\\Users\\mwenn\\PycharmProjects\\ComTec-I\\venv\\Lib\\site-packages\\torch\\nn\\modules\\loss.py:535: UserWarning: Using a target size (torch.Size([100, 6])) that is different to the input size (torch.Size([1, 100, 6])). This will likely lead to incorrect results due to broadcasting. Please ensure they have the same size.\n",
      "  return F.mse_loss(input, target, reduction=self.reduction)\n",
      "  1%|          | 1/100 [00:06<10:59,  6.66s/it]C:\\Users\\mwenn\\PycharmProjects\\ComTec-I\\venv\\Lib\\site-packages\\torch\\nn\\modules\\loss.py:535: UserWarning: Using a target size (torch.Size([100, 6])) that is different to the input size (torch.Size([1, 100, 6])). This will likely lead to incorrect results due to broadcasting. Please ensure they have the same size.\n",
      "  return F.mse_loss(input, target, reduction=self.reduction)\n",
      "  2%|▏         | 2/100 [00:13<11:11,  6.85s/it]C:\\Users\\mwenn\\PycharmProjects\\ComTec-I\\venv\\Lib\\site-packages\\torch\\nn\\modules\\loss.py:535: UserWarning: Using a target size (torch.Size([100, 6])) that is different to the input size (torch.Size([1, 100, 6])). This will likely lead to incorrect results due to broadcasting. Please ensure they have the same size.\n",
      "  return F.mse_loss(input, target, reduction=self.reduction)\n",
      "  3%|▎         | 3/100 [00:20<11:24,  7.06s/it]C:\\Users\\mwenn\\PycharmProjects\\ComTec-I\\venv\\Lib\\site-packages\\torch\\nn\\modules\\loss.py:535: UserWarning: Using a target size (torch.Size([100, 6])) that is different to the input size (torch.Size([1, 100, 6])). This will likely lead to incorrect results due to broadcasting. Please ensure they have the same size.\n",
      "  return F.mse_loss(input, target, reduction=self.reduction)\n",
      "  4%|▍         | 4/100 [00:27<10:51,  6.79s/it]C:\\Users\\mwenn\\PycharmProjects\\ComTec-I\\venv\\Lib\\site-packages\\torch\\nn\\modules\\loss.py:535: UserWarning: Using a target size (torch.Size([100, 6])) that is different to the input size (torch.Size([1, 100, 6])). This will likely lead to incorrect results due to broadcasting. Please ensure they have the same size.\n",
      "  return F.mse_loss(input, target, reduction=self.reduction)\n",
      "  5%|▌         | 5/100 [00:33<10:29,  6.62s/it]C:\\Users\\mwenn\\PycharmProjects\\ComTec-I\\venv\\Lib\\site-packages\\torch\\nn\\modules\\loss.py:535: UserWarning: Using a target size (torch.Size([100, 6])) that is different to the input size (torch.Size([1, 100, 6])). This will likely lead to incorrect results due to broadcasting. Please ensure they have the same size.\n",
      "  return F.mse_loss(input, target, reduction=self.reduction)\n",
      "  6%|▌         | 6/100 [00:40<10:21,  6.61s/it]C:\\Users\\mwenn\\PycharmProjects\\ComTec-I\\venv\\Lib\\site-packages\\torch\\nn\\modules\\loss.py:535: UserWarning: Using a target size (torch.Size([100, 6])) that is different to the input size (torch.Size([1, 100, 6])). This will likely lead to incorrect results due to broadcasting. Please ensure they have the same size.\n",
      "  return F.mse_loss(input, target, reduction=self.reduction)\n",
      "  7%|▋         | 7/100 [00:46<10:06,  6.52s/it]C:\\Users\\mwenn\\PycharmProjects\\ComTec-I\\venv\\Lib\\site-packages\\torch\\nn\\modules\\loss.py:535: UserWarning: Using a target size (torch.Size([100, 6])) that is different to the input size (torch.Size([1, 100, 6])). This will likely lead to incorrect results due to broadcasting. Please ensure they have the same size.\n",
      "  return F.mse_loss(input, target, reduction=self.reduction)\n",
      "  8%|▊         | 8/100 [00:53<09:57,  6.49s/it]C:\\Users\\mwenn\\PycharmProjects\\ComTec-I\\venv\\Lib\\site-packages\\torch\\nn\\modules\\loss.py:535: UserWarning: Using a target size (torch.Size([100, 6])) that is different to the input size (torch.Size([1, 100, 6])). This will likely lead to incorrect results due to broadcasting. Please ensure they have the same size.\n",
      "  return F.mse_loss(input, target, reduction=self.reduction)\n",
      "  9%|▉         | 9/100 [00:59<09:52,  6.51s/it]C:\\Users\\mwenn\\PycharmProjects\\ComTec-I\\venv\\Lib\\site-packages\\torch\\nn\\modules\\loss.py:535: UserWarning: Using a target size (torch.Size([100, 6])) that is different to the input size (torch.Size([1, 100, 6])). This will likely lead to incorrect results due to broadcasting. Please ensure they have the same size.\n",
      "  return F.mse_loss(input, target, reduction=self.reduction)\n",
      " 10%|█         | 10/100 [01:06<09:51,  6.57s/it]C:\\Users\\mwenn\\PycharmProjects\\ComTec-I\\venv\\Lib\\site-packages\\torch\\nn\\modules\\loss.py:535: UserWarning: Using a target size (torch.Size([100, 6])) that is different to the input size (torch.Size([1, 100, 6])). This will likely lead to incorrect results due to broadcasting. Please ensure they have the same size.\n",
      "  return F.mse_loss(input, target, reduction=self.reduction)\n",
      " 11%|█         | 11/100 [01:13<10:15,  6.92s/it]C:\\Users\\mwenn\\PycharmProjects\\ComTec-I\\venv\\Lib\\site-packages\\torch\\nn\\modules\\loss.py:535: UserWarning: Using a target size (torch.Size([100, 6])) that is different to the input size (torch.Size([1, 100, 6])). This will likely lead to incorrect results due to broadcasting. Please ensure they have the same size.\n",
      "  return F.mse_loss(input, target, reduction=self.reduction)\n",
      " 12%|█▏        | 12/100 [01:21<10:24,  7.10s/it]C:\\Users\\mwenn\\PycharmProjects\\ComTec-I\\venv\\Lib\\site-packages\\torch\\nn\\modules\\loss.py:535: UserWarning: Using a target size (torch.Size([100, 6])) that is different to the input size (torch.Size([1, 100, 6])). This will likely lead to incorrect results due to broadcasting. Please ensure they have the same size.\n",
      "  return F.mse_loss(input, target, reduction=self.reduction)\n",
      " 13%|█▎        | 13/100 [01:28<10:11,  7.03s/it]C:\\Users\\mwenn\\PycharmProjects\\ComTec-I\\venv\\Lib\\site-packages\\torch\\nn\\modules\\loss.py:535: UserWarning: Using a target size (torch.Size([100, 6])) that is different to the input size (torch.Size([1, 100, 6])). This will likely lead to incorrect results due to broadcasting. Please ensure they have the same size.\n",
      "  return F.mse_loss(input, target, reduction=self.reduction)\n",
      " 14%|█▍        | 14/100 [01:35<10:15,  7.16s/it]C:\\Users\\mwenn\\PycharmProjects\\ComTec-I\\venv\\Lib\\site-packages\\torch\\nn\\modules\\loss.py:535: UserWarning: Using a target size (torch.Size([100, 6])) that is different to the input size (torch.Size([1, 100, 6])). This will likely lead to incorrect results due to broadcasting. Please ensure they have the same size.\n",
      "  return F.mse_loss(input, target, reduction=self.reduction)\n",
      " 15%|█▌        | 15/100 [01:44<10:45,  7.60s/it]C:\\Users\\mwenn\\PycharmProjects\\ComTec-I\\venv\\Lib\\site-packages\\torch\\nn\\modules\\loss.py:535: UserWarning: Using a target size (torch.Size([100, 6])) that is different to the input size (torch.Size([1, 100, 6])). This will likely lead to incorrect results due to broadcasting. Please ensure they have the same size.\n",
      "  return F.mse_loss(input, target, reduction=self.reduction)\n",
      " 16%|█▌        | 16/100 [01:51<10:18,  7.36s/it]C:\\Users\\mwenn\\PycharmProjects\\ComTec-I\\venv\\Lib\\site-packages\\torch\\nn\\modules\\loss.py:535: UserWarning: Using a target size (torch.Size([100, 6])) that is different to the input size (torch.Size([1, 100, 6])). This will likely lead to incorrect results due to broadcasting. Please ensure they have the same size.\n",
      "  return F.mse_loss(input, target, reduction=self.reduction)\n",
      " 17%|█▋        | 17/100 [01:58<10:06,  7.31s/it]C:\\Users\\mwenn\\PycharmProjects\\ComTec-I\\venv\\Lib\\site-packages\\torch\\nn\\modules\\loss.py:535: UserWarning: Using a target size (torch.Size([100, 6])) that is different to the input size (torch.Size([1, 100, 6])). This will likely lead to incorrect results due to broadcasting. Please ensure they have the same size.\n",
      "  return F.mse_loss(input, target, reduction=self.reduction)\n",
      " 18%|█▊        | 18/100 [02:05<10:02,  7.35s/it]C:\\Users\\mwenn\\PycharmProjects\\ComTec-I\\venv\\Lib\\site-packages\\torch\\nn\\modules\\loss.py:535: UserWarning: Using a target size (torch.Size([100, 6])) that is different to the input size (torch.Size([1, 100, 6])). This will likely lead to incorrect results due to broadcasting. Please ensure they have the same size.\n",
      "  return F.mse_loss(input, target, reduction=self.reduction)\n",
      " 19%|█▉        | 19/100 [02:12<09:50,  7.28s/it]C:\\Users\\mwenn\\PycharmProjects\\ComTec-I\\venv\\Lib\\site-packages\\torch\\nn\\modules\\loss.py:535: UserWarning: Using a target size (torch.Size([100, 6])) that is different to the input size (torch.Size([1, 100, 6])). This will likely lead to incorrect results due to broadcasting. Please ensure they have the same size.\n",
      "  return F.mse_loss(input, target, reduction=self.reduction)\n",
      " 20%|██        | 20/100 [02:20<09:37,  7.22s/it]C:\\Users\\mwenn\\PycharmProjects\\ComTec-I\\venv\\Lib\\site-packages\\torch\\nn\\modules\\loss.py:535: UserWarning: Using a target size (torch.Size([100, 6])) that is different to the input size (torch.Size([1, 100, 6])). This will likely lead to incorrect results due to broadcasting. Please ensure they have the same size.\n",
      "  return F.mse_loss(input, target, reduction=self.reduction)\n",
      " 21%|██        | 21/100 [02:27<09:30,  7.23s/it]C:\\Users\\mwenn\\PycharmProjects\\ComTec-I\\venv\\Lib\\site-packages\\torch\\nn\\modules\\loss.py:535: UserWarning: Using a target size (torch.Size([100, 6])) that is different to the input size (torch.Size([1, 100, 6])). This will likely lead to incorrect results due to broadcasting. Please ensure they have the same size.\n",
      "  return F.mse_loss(input, target, reduction=self.reduction)\n",
      " 22%|██▏       | 22/100 [02:34<09:27,  7.27s/it]C:\\Users\\mwenn\\PycharmProjects\\ComTec-I\\venv\\Lib\\site-packages\\torch\\nn\\modules\\loss.py:535: UserWarning: Using a target size (torch.Size([100, 6])) that is different to the input size (torch.Size([1, 100, 6])). This will likely lead to incorrect results due to broadcasting. Please ensure they have the same size.\n",
      "  return F.mse_loss(input, target, reduction=self.reduction)\n",
      " 23%|██▎       | 23/100 [02:42<09:29,  7.40s/it]C:\\Users\\mwenn\\PycharmProjects\\ComTec-I\\venv\\Lib\\site-packages\\torch\\nn\\modules\\loss.py:535: UserWarning: Using a target size (torch.Size([100, 6])) that is different to the input size (torch.Size([1, 100, 6])). This will likely lead to incorrect results due to broadcasting. Please ensure they have the same size.\n",
      "  return F.mse_loss(input, target, reduction=self.reduction)\n",
      " 24%|██▍       | 24/100 [02:49<09:27,  7.46s/it]C:\\Users\\mwenn\\PycharmProjects\\ComTec-I\\venv\\Lib\\site-packages\\torch\\nn\\modules\\loss.py:535: UserWarning: Using a target size (torch.Size([100, 6])) that is different to the input size (torch.Size([1, 100, 6])). This will likely lead to incorrect results due to broadcasting. Please ensure they have the same size.\n",
      "  return F.mse_loss(input, target, reduction=self.reduction)\n",
      " 25%|██▌       | 25/100 [02:58<09:33,  7.65s/it]C:\\Users\\mwenn\\PycharmProjects\\ComTec-I\\venv\\Lib\\site-packages\\torch\\nn\\modules\\loss.py:535: UserWarning: Using a target size (torch.Size([100, 6])) that is different to the input size (torch.Size([1, 100, 6])). This will likely lead to incorrect results due to broadcasting. Please ensure they have the same size.\n",
      "  return F.mse_loss(input, target, reduction=self.reduction)\n",
      " 26%|██▌       | 26/100 [03:05<09:24,  7.62s/it]C:\\Users\\mwenn\\PycharmProjects\\ComTec-I\\venv\\Lib\\site-packages\\torch\\nn\\modules\\loss.py:535: UserWarning: Using a target size (torch.Size([100, 6])) that is different to the input size (torch.Size([1, 100, 6])). This will likely lead to incorrect results due to broadcasting. Please ensure they have the same size.\n",
      "  return F.mse_loss(input, target, reduction=self.reduction)\n",
      " 27%|██▋       | 27/100 [03:13<09:14,  7.60s/it]C:\\Users\\mwenn\\PycharmProjects\\ComTec-I\\venv\\Lib\\site-packages\\torch\\nn\\modules\\loss.py:535: UserWarning: Using a target size (torch.Size([100, 6])) that is different to the input size (torch.Size([1, 100, 6])). This will likely lead to incorrect results due to broadcasting. Please ensure they have the same size.\n",
      "  return F.mse_loss(input, target, reduction=self.reduction)\n",
      " 28%|██▊       | 28/100 [03:22<09:44,  8.11s/it]C:\\Users\\mwenn\\PycharmProjects\\ComTec-I\\venv\\Lib\\site-packages\\torch\\nn\\modules\\loss.py:535: UserWarning: Using a target size (torch.Size([100, 6])) that is different to the input size (torch.Size([1, 100, 6])). This will likely lead to incorrect results due to broadcasting. Please ensure they have the same size.\n",
      "  return F.mse_loss(input, target, reduction=self.reduction)\n",
      " 29%|██▉       | 29/100 [03:31<10:01,  8.47s/it]C:\\Users\\mwenn\\PycharmProjects\\ComTec-I\\venv\\Lib\\site-packages\\torch\\nn\\modules\\loss.py:535: UserWarning: Using a target size (torch.Size([100, 6])) that is different to the input size (torch.Size([1, 100, 6])). This will likely lead to incorrect results due to broadcasting. Please ensure they have the same size.\n",
      "  return F.mse_loss(input, target, reduction=self.reduction)\n",
      " 30%|███       | 30/100 [03:41<10:11,  8.74s/it]C:\\Users\\mwenn\\PycharmProjects\\ComTec-I\\venv\\Lib\\site-packages\\torch\\nn\\modules\\loss.py:535: UserWarning: Using a target size (torch.Size([100, 6])) that is different to the input size (torch.Size([1, 100, 6])). This will likely lead to incorrect results due to broadcasting. Please ensure they have the same size.\n",
      "  return F.mse_loss(input, target, reduction=self.reduction)\n",
      " 31%|███       | 31/100 [03:52<10:59,  9.55s/it]C:\\Users\\mwenn\\PycharmProjects\\ComTec-I\\venv\\Lib\\site-packages\\torch\\nn\\modules\\loss.py:535: UserWarning: Using a target size (torch.Size([100, 6])) that is different to the input size (torch.Size([1, 100, 6])). This will likely lead to incorrect results due to broadcasting. Please ensure they have the same size.\n",
      "  return F.mse_loss(input, target, reduction=self.reduction)\n",
      " 32%|███▏      | 32/100 [04:03<11:08,  9.82s/it]C:\\Users\\mwenn\\PycharmProjects\\ComTec-I\\venv\\Lib\\site-packages\\torch\\nn\\modules\\loss.py:535: UserWarning: Using a target size (torch.Size([100, 6])) that is different to the input size (torch.Size([1, 100, 6])). This will likely lead to incorrect results due to broadcasting. Please ensure they have the same size.\n",
      "  return F.mse_loss(input, target, reduction=self.reduction)\n",
      " 33%|███▎      | 33/100 [04:12<10:52,  9.73s/it]C:\\Users\\mwenn\\PycharmProjects\\ComTec-I\\venv\\Lib\\site-packages\\torch\\nn\\modules\\loss.py:535: UserWarning: Using a target size (torch.Size([100, 6])) that is different to the input size (torch.Size([1, 100, 6])). This will likely lead to incorrect results due to broadcasting. Please ensure they have the same size.\n",
      "  return F.mse_loss(input, target, reduction=self.reduction)\n",
      " 34%|███▍      | 34/100 [04:22<10:45,  9.77s/it]C:\\Users\\mwenn\\PycharmProjects\\ComTec-I\\venv\\Lib\\site-packages\\torch\\nn\\modules\\loss.py:535: UserWarning: Using a target size (torch.Size([100, 6])) that is different to the input size (torch.Size([1, 100, 6])). This will likely lead to incorrect results due to broadcasting. Please ensure they have the same size.\n",
      "  return F.mse_loss(input, target, reduction=self.reduction)\n",
      " 35%|███▌      | 35/100 [04:32<10:44,  9.92s/it]C:\\Users\\mwenn\\PycharmProjects\\ComTec-I\\venv\\Lib\\site-packages\\torch\\nn\\modules\\loss.py:535: UserWarning: Using a target size (torch.Size([100, 6])) that is different to the input size (torch.Size([1, 100, 6])). This will likely lead to incorrect results due to broadcasting. Please ensure they have the same size.\n",
      "  return F.mse_loss(input, target, reduction=self.reduction)\n",
      " 36%|███▌      | 36/100 [04:42<10:31,  9.87s/it]C:\\Users\\mwenn\\PycharmProjects\\ComTec-I\\venv\\Lib\\site-packages\\torch\\nn\\modules\\loss.py:535: UserWarning: Using a target size (torch.Size([100, 6])) that is different to the input size (torch.Size([1, 100, 6])). This will likely lead to incorrect results due to broadcasting. Please ensure they have the same size.\n",
      "  return F.mse_loss(input, target, reduction=self.reduction)\n",
      " 37%|███▋      | 37/100 [04:52<10:21,  9.86s/it]C:\\Users\\mwenn\\PycharmProjects\\ComTec-I\\venv\\Lib\\site-packages\\torch\\nn\\modules\\loss.py:535: UserWarning: Using a target size (torch.Size([100, 6])) that is different to the input size (torch.Size([1, 100, 6])). This will likely lead to incorrect results due to broadcasting. Please ensure they have the same size.\n",
      "  return F.mse_loss(input, target, reduction=self.reduction)\n",
      " 38%|███▊      | 38/100 [05:01<10:08,  9.81s/it]C:\\Users\\mwenn\\PycharmProjects\\ComTec-I\\venv\\Lib\\site-packages\\torch\\nn\\modules\\loss.py:535: UserWarning: Using a target size (torch.Size([100, 6])) that is different to the input size (torch.Size([1, 100, 6])). This will likely lead to incorrect results due to broadcasting. Please ensure they have the same size.\n",
      "  return F.mse_loss(input, target, reduction=self.reduction)\n",
      " 39%|███▉      | 39/100 [05:11<09:46,  9.62s/it]C:\\Users\\mwenn\\PycharmProjects\\ComTec-I\\venv\\Lib\\site-packages\\torch\\nn\\modules\\loss.py:535: UserWarning: Using a target size (torch.Size([100, 6])) that is different to the input size (torch.Size([1, 100, 6])). This will likely lead to incorrect results due to broadcasting. Please ensure they have the same size.\n",
      "  return F.mse_loss(input, target, reduction=self.reduction)\n",
      " 40%|████      | 40/100 [05:20<09:27,  9.47s/it]C:\\Users\\mwenn\\PycharmProjects\\ComTec-I\\venv\\Lib\\site-packages\\torch\\nn\\modules\\loss.py:535: UserWarning: Using a target size (torch.Size([100, 6])) that is different to the input size (torch.Size([1, 100, 6])). This will likely lead to incorrect results due to broadcasting. Please ensure they have the same size.\n",
      "  return F.mse_loss(input, target, reduction=self.reduction)\n",
      " 41%|████      | 41/100 [05:28<09:02,  9.20s/it]C:\\Users\\mwenn\\PycharmProjects\\ComTec-I\\venv\\Lib\\site-packages\\torch\\nn\\modules\\loss.py:535: UserWarning: Using a target size (torch.Size([100, 6])) that is different to the input size (torch.Size([1, 100, 6])). This will likely lead to incorrect results due to broadcasting. Please ensure they have the same size.\n",
      "  return F.mse_loss(input, target, reduction=self.reduction)\n",
      " 42%|████▏     | 42/100 [05:38<08:55,  9.23s/it]C:\\Users\\mwenn\\PycharmProjects\\ComTec-I\\venv\\Lib\\site-packages\\torch\\nn\\modules\\loss.py:535: UserWarning: Using a target size (torch.Size([100, 6])) that is different to the input size (torch.Size([1, 100, 6])). This will likely lead to incorrect results due to broadcasting. Please ensure they have the same size.\n",
      "  return F.mse_loss(input, target, reduction=self.reduction)\n",
      " 43%|████▎     | 43/100 [05:47<08:45,  9.23s/it]C:\\Users\\mwenn\\PycharmProjects\\ComTec-I\\venv\\Lib\\site-packages\\torch\\nn\\modules\\loss.py:535: UserWarning: Using a target size (torch.Size([100, 6])) that is different to the input size (torch.Size([1, 100, 6])). This will likely lead to incorrect results due to broadcasting. Please ensure they have the same size.\n",
      "  return F.mse_loss(input, target, reduction=self.reduction)\n",
      " 44%|████▍     | 44/100 [05:56<08:36,  9.23s/it]C:\\Users\\mwenn\\PycharmProjects\\ComTec-I\\venv\\Lib\\site-packages\\torch\\nn\\modules\\loss.py:535: UserWarning: Using a target size (torch.Size([100, 6])) that is different to the input size (torch.Size([1, 100, 6])). This will likely lead to incorrect results due to broadcasting. Please ensure they have the same size.\n",
      "  return F.mse_loss(input, target, reduction=self.reduction)\n",
      " 45%|████▌     | 45/100 [06:06<08:33,  9.34s/it]C:\\Users\\mwenn\\PycharmProjects\\ComTec-I\\venv\\Lib\\site-packages\\torch\\nn\\modules\\loss.py:535: UserWarning: Using a target size (torch.Size([100, 6])) that is different to the input size (torch.Size([1, 100, 6])). This will likely lead to incorrect results due to broadcasting. Please ensure they have the same size.\n",
      "  return F.mse_loss(input, target, reduction=self.reduction)\n",
      " 46%|████▌     | 46/100 [06:15<08:24,  9.34s/it]C:\\Users\\mwenn\\PycharmProjects\\ComTec-I\\venv\\Lib\\site-packages\\torch\\nn\\modules\\loss.py:535: UserWarning: Using a target size (torch.Size([100, 6])) that is different to the input size (torch.Size([1, 100, 6])). This will likely lead to incorrect results due to broadcasting. Please ensure they have the same size.\n",
      "  return F.mse_loss(input, target, reduction=self.reduction)\n",
      " 47%|████▋     | 47/100 [06:24<08:12,  9.29s/it]C:\\Users\\mwenn\\PycharmProjects\\ComTec-I\\venv\\Lib\\site-packages\\torch\\nn\\modules\\loss.py:535: UserWarning: Using a target size (torch.Size([100, 6])) that is different to the input size (torch.Size([1, 100, 6])). This will likely lead to incorrect results due to broadcasting. Please ensure they have the same size.\n",
      "  return F.mse_loss(input, target, reduction=self.reduction)\n",
      " 48%|████▊     | 48/100 [06:34<08:08,  9.39s/it]C:\\Users\\mwenn\\PycharmProjects\\ComTec-I\\venv\\Lib\\site-packages\\torch\\nn\\modules\\loss.py:535: UserWarning: Using a target size (torch.Size([100, 6])) that is different to the input size (torch.Size([1, 100, 6])). This will likely lead to incorrect results due to broadcasting. Please ensure they have the same size.\n",
      "  return F.mse_loss(input, target, reduction=self.reduction)\n",
      " 49%|████▉     | 49/100 [06:43<07:58,  9.38s/it]C:\\Users\\mwenn\\PycharmProjects\\ComTec-I\\venv\\Lib\\site-packages\\torch\\nn\\modules\\loss.py:535: UserWarning: Using a target size (torch.Size([100, 6])) that is different to the input size (torch.Size([1, 100, 6])). This will likely lead to incorrect results due to broadcasting. Please ensure they have the same size.\n",
      "  return F.mse_loss(input, target, reduction=self.reduction)\n",
      " 50%|█████     | 50/100 [06:53<07:49,  9.39s/it]C:\\Users\\mwenn\\PycharmProjects\\ComTec-I\\venv\\Lib\\site-packages\\torch\\nn\\modules\\loss.py:535: UserWarning: Using a target size (torch.Size([100, 6])) that is different to the input size (torch.Size([1, 100, 6])). This will likely lead to incorrect results due to broadcasting. Please ensure they have the same size.\n",
      "  return F.mse_loss(input, target, reduction=self.reduction)\n",
      " 51%|█████     | 51/100 [07:02<07:39,  9.37s/it]C:\\Users\\mwenn\\PycharmProjects\\ComTec-I\\venv\\Lib\\site-packages\\torch\\nn\\modules\\loss.py:535: UserWarning: Using a target size (torch.Size([100, 6])) that is different to the input size (torch.Size([1, 100, 6])). This will likely lead to incorrect results due to broadcasting. Please ensure they have the same size.\n",
      "  return F.mse_loss(input, target, reduction=self.reduction)\n",
      " 52%|█████▏    | 52/100 [07:11<07:31,  9.41s/it]C:\\Users\\mwenn\\PycharmProjects\\ComTec-I\\venv\\Lib\\site-packages\\torch\\nn\\modules\\loss.py:535: UserWarning: Using a target size (torch.Size([100, 6])) that is different to the input size (torch.Size([1, 100, 6])). This will likely lead to incorrect results due to broadcasting. Please ensure they have the same size.\n",
      "  return F.mse_loss(input, target, reduction=self.reduction)\n",
      " 53%|█████▎    | 53/100 [07:21<07:25,  9.49s/it]C:\\Users\\mwenn\\PycharmProjects\\ComTec-I\\venv\\Lib\\site-packages\\torch\\nn\\modules\\loss.py:535: UserWarning: Using a target size (torch.Size([100, 6])) that is different to the input size (torch.Size([1, 100, 6])). This will likely lead to incorrect results due to broadcasting. Please ensure they have the same size.\n",
      "  return F.mse_loss(input, target, reduction=self.reduction)\n",
      " 54%|█████▍    | 54/100 [07:31<07:19,  9.55s/it]C:\\Users\\mwenn\\PycharmProjects\\ComTec-I\\venv\\Lib\\site-packages\\torch\\nn\\modules\\loss.py:535: UserWarning: Using a target size (torch.Size([100, 6])) that is different to the input size (torch.Size([1, 100, 6])). This will likely lead to incorrect results due to broadcasting. Please ensure they have the same size.\n",
      "  return F.mse_loss(input, target, reduction=self.reduction)\n",
      " 55%|█████▌    | 55/100 [07:41<07:16,  9.71s/it]C:\\Users\\mwenn\\PycharmProjects\\ComTec-I\\venv\\Lib\\site-packages\\torch\\nn\\modules\\loss.py:535: UserWarning: Using a target size (torch.Size([100, 6])) that is different to the input size (torch.Size([1, 100, 6])). This will likely lead to incorrect results due to broadcasting. Please ensure they have the same size.\n",
      "  return F.mse_loss(input, target, reduction=self.reduction)\n",
      " 56%|█████▌    | 56/100 [07:51<07:09,  9.76s/it]C:\\Users\\mwenn\\PycharmProjects\\ComTec-I\\venv\\Lib\\site-packages\\torch\\nn\\modules\\loss.py:535: UserWarning: Using a target size (torch.Size([100, 6])) that is different to the input size (torch.Size([1, 100, 6])). This will likely lead to incorrect results due to broadcasting. Please ensure they have the same size.\n",
      "  return F.mse_loss(input, target, reduction=self.reduction)\n",
      " 57%|█████▋    | 57/100 [08:01<07:00,  9.79s/it]C:\\Users\\mwenn\\PycharmProjects\\ComTec-I\\venv\\Lib\\site-packages\\torch\\nn\\modules\\loss.py:535: UserWarning: Using a target size (torch.Size([100, 6])) that is different to the input size (torch.Size([1, 100, 6])). This will likely lead to incorrect results due to broadcasting. Please ensure they have the same size.\n",
      "  return F.mse_loss(input, target, reduction=self.reduction)\n",
      " 58%|█████▊    | 58/100 [08:11<06:55,  9.89s/it]C:\\Users\\mwenn\\PycharmProjects\\ComTec-I\\venv\\Lib\\site-packages\\torch\\nn\\modules\\loss.py:535: UserWarning: Using a target size (torch.Size([100, 6])) that is different to the input size (torch.Size([1, 100, 6])). This will likely lead to incorrect results due to broadcasting. Please ensure they have the same size.\n",
      "  return F.mse_loss(input, target, reduction=self.reduction)\n",
      " 59%|█████▉    | 59/100 [08:21<06:47,  9.93s/it]C:\\Users\\mwenn\\PycharmProjects\\ComTec-I\\venv\\Lib\\site-packages\\torch\\nn\\modules\\loss.py:535: UserWarning: Using a target size (torch.Size([100, 6])) that is different to the input size (torch.Size([1, 100, 6])). This will likely lead to incorrect results due to broadcasting. Please ensure they have the same size.\n",
      "  return F.mse_loss(input, target, reduction=self.reduction)\n",
      " 60%|██████    | 60/100 [08:31<06:35,  9.89s/it]C:\\Users\\mwenn\\PycharmProjects\\ComTec-I\\venv\\Lib\\site-packages\\torch\\nn\\modules\\loss.py:535: UserWarning: Using a target size (torch.Size([100, 6])) that is different to the input size (torch.Size([1, 100, 6])). This will likely lead to incorrect results due to broadcasting. Please ensure they have the same size.\n",
      "  return F.mse_loss(input, target, reduction=self.reduction)\n",
      " 61%|██████    | 61/100 [08:39<06:12,  9.56s/it]C:\\Users\\mwenn\\PycharmProjects\\ComTec-I\\venv\\Lib\\site-packages\\torch\\nn\\modules\\loss.py:535: UserWarning: Using a target size (torch.Size([100, 6])) that is different to the input size (torch.Size([1, 100, 6])). This will likely lead to incorrect results due to broadcasting. Please ensure they have the same size.\n",
      "  return F.mse_loss(input, target, reduction=self.reduction)\n",
      " 62%|██████▏   | 62/100 [08:49<06:08,  9.70s/it]C:\\Users\\mwenn\\PycharmProjects\\ComTec-I\\venv\\Lib\\site-packages\\torch\\nn\\modules\\loss.py:535: UserWarning: Using a target size (torch.Size([100, 6])) that is different to the input size (torch.Size([1, 100, 6])). This will likely lead to incorrect results due to broadcasting. Please ensure they have the same size.\n",
      "  return F.mse_loss(input, target, reduction=self.reduction)\n",
      " 63%|██████▎   | 63/100 [08:59<05:57,  9.67s/it]C:\\Users\\mwenn\\PycharmProjects\\ComTec-I\\venv\\Lib\\site-packages\\torch\\nn\\modules\\loss.py:535: UserWarning: Using a target size (torch.Size([100, 6])) that is different to the input size (torch.Size([1, 100, 6])). This will likely lead to incorrect results due to broadcasting. Please ensure they have the same size.\n",
      "  return F.mse_loss(input, target, reduction=self.reduction)\n",
      " 64%|██████▍   | 64/100 [09:09<05:50,  9.74s/it]C:\\Users\\mwenn\\PycharmProjects\\ComTec-I\\venv\\Lib\\site-packages\\torch\\nn\\modules\\loss.py:535: UserWarning: Using a target size (torch.Size([100, 6])) that is different to the input size (torch.Size([1, 100, 6])). This will likely lead to incorrect results due to broadcasting. Please ensure they have the same size.\n",
      "  return F.mse_loss(input, target, reduction=self.reduction)\n",
      " 65%|██████▌   | 65/100 [09:19<05:45,  9.87s/it]C:\\Users\\mwenn\\PycharmProjects\\ComTec-I\\venv\\Lib\\site-packages\\torch\\nn\\modules\\loss.py:535: UserWarning: Using a target size (torch.Size([100, 6])) that is different to the input size (torch.Size([1, 100, 6])). This will likely lead to incorrect results due to broadcasting. Please ensure they have the same size.\n",
      "  return F.mse_loss(input, target, reduction=self.reduction)\n",
      " 66%|██████▌   | 66/100 [09:29<05:36,  9.91s/it]C:\\Users\\mwenn\\PycharmProjects\\ComTec-I\\venv\\Lib\\site-packages\\torch\\nn\\modules\\loss.py:535: UserWarning: Using a target size (torch.Size([100, 6])) that is different to the input size (torch.Size([1, 100, 6])). This will likely lead to incorrect results due to broadcasting. Please ensure they have the same size.\n",
      "  return F.mse_loss(input, target, reduction=self.reduction)\n",
      " 67%|██████▋   | 67/100 [09:39<05:29,  9.97s/it]C:\\Users\\mwenn\\PycharmProjects\\ComTec-I\\venv\\Lib\\site-packages\\torch\\nn\\modules\\loss.py:535: UserWarning: Using a target size (torch.Size([100, 6])) that is different to the input size (torch.Size([1, 100, 6])). This will likely lead to incorrect results due to broadcasting. Please ensure they have the same size.\n",
      "  return F.mse_loss(input, target, reduction=self.reduction)\n",
      " 68%|██████▊   | 68/100 [09:49<05:21, 10.05s/it]C:\\Users\\mwenn\\PycharmProjects\\ComTec-I\\venv\\Lib\\site-packages\\torch\\nn\\modules\\loss.py:535: UserWarning: Using a target size (torch.Size([100, 6])) that is different to the input size (torch.Size([1, 100, 6])). This will likely lead to incorrect results due to broadcasting. Please ensure they have the same size.\n",
      "  return F.mse_loss(input, target, reduction=self.reduction)\n",
      " 69%|██████▉   | 69/100 [09:59<05:10, 10.02s/it]C:\\Users\\mwenn\\PycharmProjects\\ComTec-I\\venv\\Lib\\site-packages\\torch\\nn\\modules\\loss.py:535: UserWarning: Using a target size (torch.Size([100, 6])) that is different to the input size (torch.Size([1, 100, 6])). This will likely lead to incorrect results due to broadcasting. Please ensure they have the same size.\n",
      "  return F.mse_loss(input, target, reduction=self.reduction)\n",
      " 70%|███████   | 70/100 [10:09<04:59,  9.97s/it]C:\\Users\\mwenn\\PycharmProjects\\ComTec-I\\venv\\Lib\\site-packages\\torch\\nn\\modules\\loss.py:535: UserWarning: Using a target size (torch.Size([100, 6])) that is different to the input size (torch.Size([1, 100, 6])). This will likely lead to incorrect results due to broadcasting. Please ensure they have the same size.\n",
      "  return F.mse_loss(input, target, reduction=self.reduction)\n",
      " 71%|███████   | 71/100 [10:19<04:50, 10.03s/it]C:\\Users\\mwenn\\PycharmProjects\\ComTec-I\\venv\\Lib\\site-packages\\torch\\nn\\modules\\loss.py:535: UserWarning: Using a target size (torch.Size([100, 6])) that is different to the input size (torch.Size([1, 100, 6])). This will likely lead to incorrect results due to broadcasting. Please ensure they have the same size.\n",
      "  return F.mse_loss(input, target, reduction=self.reduction)\n",
      " 72%|███████▏  | 72/100 [10:29<04:35,  9.83s/it]C:\\Users\\mwenn\\PycharmProjects\\ComTec-I\\venv\\Lib\\site-packages\\torch\\nn\\modules\\loss.py:535: UserWarning: Using a target size (torch.Size([100, 6])) that is different to the input size (torch.Size([1, 100, 6])). This will likely lead to incorrect results due to broadcasting. Please ensure they have the same size.\n",
      "  return F.mse_loss(input, target, reduction=self.reduction)\n",
      " 73%|███████▎  | 73/100 [10:38<04:21,  9.69s/it]C:\\Users\\mwenn\\PycharmProjects\\ComTec-I\\venv\\Lib\\site-packages\\torch\\nn\\modules\\loss.py:535: UserWarning: Using a target size (torch.Size([100, 6])) that is different to the input size (torch.Size([1, 100, 6])). This will likely lead to incorrect results due to broadcasting. Please ensure they have the same size.\n",
      "  return F.mse_loss(input, target, reduction=self.reduction)\n",
      " 74%|███████▍  | 74/100 [10:47<04:03,  9.38s/it]C:\\Users\\mwenn\\PycharmProjects\\ComTec-I\\venv\\Lib\\site-packages\\torch\\nn\\modules\\loss.py:535: UserWarning: Using a target size (torch.Size([100, 6])) that is different to the input size (torch.Size([1, 100, 6])). This will likely lead to incorrect results due to broadcasting. Please ensure they have the same size.\n",
      "  return F.mse_loss(input, target, reduction=self.reduction)\n",
      " 75%|███████▌  | 75/100 [10:56<03:55,  9.44s/it]C:\\Users\\mwenn\\PycharmProjects\\ComTec-I\\venv\\Lib\\site-packages\\torch\\nn\\modules\\loss.py:535: UserWarning: Using a target size (torch.Size([100, 6])) that is different to the input size (torch.Size([1, 100, 6])). This will likely lead to incorrect results due to broadcasting. Please ensure they have the same size.\n",
      "  return F.mse_loss(input, target, reduction=self.reduction)\n",
      " 76%|███████▌  | 76/100 [11:06<03:46,  9.46s/it]C:\\Users\\mwenn\\PycharmProjects\\ComTec-I\\venv\\Lib\\site-packages\\torch\\nn\\modules\\loss.py:535: UserWarning: Using a target size (torch.Size([100, 6])) that is different to the input size (torch.Size([1, 100, 6])). This will likely lead to incorrect results due to broadcasting. Please ensure they have the same size.\n",
      "  return F.mse_loss(input, target, reduction=self.reduction)\n",
      " 77%|███████▋  | 77/100 [11:15<03:38,  9.48s/it]C:\\Users\\mwenn\\PycharmProjects\\ComTec-I\\venv\\Lib\\site-packages\\torch\\nn\\modules\\loss.py:535: UserWarning: Using a target size (torch.Size([100, 6])) that is different to the input size (torch.Size([1, 100, 6])). This will likely lead to incorrect results due to broadcasting. Please ensure they have the same size.\n",
      "  return F.mse_loss(input, target, reduction=self.reduction)\n",
      " 78%|███████▊  | 78/100 [11:25<03:30,  9.55s/it]C:\\Users\\mwenn\\PycharmProjects\\ComTec-I\\venv\\Lib\\site-packages\\torch\\nn\\modules\\loss.py:535: UserWarning: Using a target size (torch.Size([100, 6])) that is different to the input size (torch.Size([1, 100, 6])). This will likely lead to incorrect results due to broadcasting. Please ensure they have the same size.\n",
      "  return F.mse_loss(input, target, reduction=self.reduction)\n",
      " 79%|███████▉  | 79/100 [11:35<03:20,  9.55s/it]C:\\Users\\mwenn\\PycharmProjects\\ComTec-I\\venv\\Lib\\site-packages\\torch\\nn\\modules\\loss.py:535: UserWarning: Using a target size (torch.Size([100, 6])) that is different to the input size (torch.Size([1, 100, 6])). This will likely lead to incorrect results due to broadcasting. Please ensure they have the same size.\n",
      "  return F.mse_loss(input, target, reduction=self.reduction)\n",
      " 80%|████████  | 80/100 [11:45<03:13,  9.66s/it]C:\\Users\\mwenn\\PycharmProjects\\ComTec-I\\venv\\Lib\\site-packages\\torch\\nn\\modules\\loss.py:535: UserWarning: Using a target size (torch.Size([100, 6])) that is different to the input size (torch.Size([1, 100, 6])). This will likely lead to incorrect results due to broadcasting. Please ensure they have the same size.\n",
      "  return F.mse_loss(input, target, reduction=self.reduction)\n",
      " 81%|████████  | 81/100 [11:54<03:02,  9.63s/it]C:\\Users\\mwenn\\PycharmProjects\\ComTec-I\\venv\\Lib\\site-packages\\torch\\nn\\modules\\loss.py:535: UserWarning: Using a target size (torch.Size([100, 6])) that is different to the input size (torch.Size([1, 100, 6])). This will likely lead to incorrect results due to broadcasting. Please ensure they have the same size.\n",
      "  return F.mse_loss(input, target, reduction=self.reduction)\n",
      " 82%|████████▏ | 82/100 [12:04<02:53,  9.66s/it]C:\\Users\\mwenn\\PycharmProjects\\ComTec-I\\venv\\Lib\\site-packages\\torch\\nn\\modules\\loss.py:535: UserWarning: Using a target size (torch.Size([100, 6])) that is different to the input size (torch.Size([1, 100, 6])). This will likely lead to incorrect results due to broadcasting. Please ensure they have the same size.\n",
      "  return F.mse_loss(input, target, reduction=self.reduction)\n",
      " 83%|████████▎ | 83/100 [12:13<02:43,  9.59s/it]C:\\Users\\mwenn\\PycharmProjects\\ComTec-I\\venv\\Lib\\site-packages\\torch\\nn\\modules\\loss.py:535: UserWarning: Using a target size (torch.Size([100, 6])) that is different to the input size (torch.Size([1, 100, 6])). This will likely lead to incorrect results due to broadcasting. Please ensure they have the same size.\n",
      "  return F.mse_loss(input, target, reduction=self.reduction)\n",
      " 84%|████████▍ | 84/100 [12:23<02:34,  9.66s/it]C:\\Users\\mwenn\\PycharmProjects\\ComTec-I\\venv\\Lib\\site-packages\\torch\\nn\\modules\\loss.py:535: UserWarning: Using a target size (torch.Size([100, 6])) that is different to the input size (torch.Size([1, 100, 6])). This will likely lead to incorrect results due to broadcasting. Please ensure they have the same size.\n",
      "  return F.mse_loss(input, target, reduction=self.reduction)\n",
      " 85%|████████▌ | 85/100 [12:33<02:27,  9.85s/it]C:\\Users\\mwenn\\PycharmProjects\\ComTec-I\\venv\\Lib\\site-packages\\torch\\nn\\modules\\loss.py:535: UserWarning: Using a target size (torch.Size([100, 6])) that is different to the input size (torch.Size([1, 100, 6])). This will likely lead to incorrect results due to broadcasting. Please ensure they have the same size.\n",
      "  return F.mse_loss(input, target, reduction=self.reduction)\n",
      " 86%|████████▌ | 86/100 [12:43<02:17,  9.82s/it]C:\\Users\\mwenn\\PycharmProjects\\ComTec-I\\venv\\Lib\\site-packages\\torch\\nn\\modules\\loss.py:535: UserWarning: Using a target size (torch.Size([100, 6])) that is different to the input size (torch.Size([1, 100, 6])). This will likely lead to incorrect results due to broadcasting. Please ensure they have the same size.\n",
      "  return F.mse_loss(input, target, reduction=self.reduction)\n",
      " 87%|████████▋ | 87/100 [12:54<02:11, 10.13s/it]C:\\Users\\mwenn\\PycharmProjects\\ComTec-I\\venv\\Lib\\site-packages\\torch\\nn\\modules\\loss.py:535: UserWarning: Using a target size (torch.Size([100, 6])) that is different to the input size (torch.Size([1, 100, 6])). This will likely lead to incorrect results due to broadcasting. Please ensure they have the same size.\n",
      "  return F.mse_loss(input, target, reduction=self.reduction)\n",
      " 88%|████████▊ | 88/100 [13:04<02:01, 10.14s/it]C:\\Users\\mwenn\\PycharmProjects\\ComTec-I\\venv\\Lib\\site-packages\\torch\\nn\\modules\\loss.py:535: UserWarning: Using a target size (torch.Size([100, 6])) that is different to the input size (torch.Size([1, 100, 6])). This will likely lead to incorrect results due to broadcasting. Please ensure they have the same size.\n",
      "  return F.mse_loss(input, target, reduction=self.reduction)\n",
      " 89%|████████▉ | 89/100 [13:14<01:49,  9.99s/it]C:\\Users\\mwenn\\PycharmProjects\\ComTec-I\\venv\\Lib\\site-packages\\torch\\nn\\modules\\loss.py:535: UserWarning: Using a target size (torch.Size([100, 6])) that is different to the input size (torch.Size([1, 100, 6])). This will likely lead to incorrect results due to broadcasting. Please ensure they have the same size.\n",
      "  return F.mse_loss(input, target, reduction=self.reduction)\n",
      " 90%|█████████ | 90/100 [13:23<01:38,  9.86s/it]C:\\Users\\mwenn\\PycharmProjects\\ComTec-I\\venv\\Lib\\site-packages\\torch\\nn\\modules\\loss.py:535: UserWarning: Using a target size (torch.Size([100, 6])) that is different to the input size (torch.Size([1, 100, 6])). This will likely lead to incorrect results due to broadcasting. Please ensure they have the same size.\n",
      "  return F.mse_loss(input, target, reduction=self.reduction)\n",
      " 91%|█████████ | 91/100 [13:33<01:28,  9.87s/it]C:\\Users\\mwenn\\PycharmProjects\\ComTec-I\\venv\\Lib\\site-packages\\torch\\nn\\modules\\loss.py:535: UserWarning: Using a target size (torch.Size([100, 6])) that is different to the input size (torch.Size([1, 100, 6])). This will likely lead to incorrect results due to broadcasting. Please ensure they have the same size.\n",
      "  return F.mse_loss(input, target, reduction=self.reduction)\n",
      " 92%|█████████▏| 92/100 [13:43<01:18,  9.78s/it]C:\\Users\\mwenn\\PycharmProjects\\ComTec-I\\venv\\Lib\\site-packages\\torch\\nn\\modules\\loss.py:535: UserWarning: Using a target size (torch.Size([100, 6])) that is different to the input size (torch.Size([1, 100, 6])). This will likely lead to incorrect results due to broadcasting. Please ensure they have the same size.\n",
      "  return F.mse_loss(input, target, reduction=self.reduction)\n",
      " 93%|█████████▎| 93/100 [13:52<01:07,  9.65s/it]C:\\Users\\mwenn\\PycharmProjects\\ComTec-I\\venv\\Lib\\site-packages\\torch\\nn\\modules\\loss.py:535: UserWarning: Using a target size (torch.Size([100, 6])) that is different to the input size (torch.Size([1, 100, 6])). This will likely lead to incorrect results due to broadcasting. Please ensure they have the same size.\n",
      "  return F.mse_loss(input, target, reduction=self.reduction)\n",
      " 94%|█████████▍| 94/100 [14:02<00:57,  9.66s/it]C:\\Users\\mwenn\\PycharmProjects\\ComTec-I\\venv\\Lib\\site-packages\\torch\\nn\\modules\\loss.py:535: UserWarning: Using a target size (torch.Size([100, 6])) that is different to the input size (torch.Size([1, 100, 6])). This will likely lead to incorrect results due to broadcasting. Please ensure they have the same size.\n",
      "  return F.mse_loss(input, target, reduction=self.reduction)\n",
      " 95%|█████████▌| 95/100 [14:12<00:48,  9.69s/it]C:\\Users\\mwenn\\PycharmProjects\\ComTec-I\\venv\\Lib\\site-packages\\torch\\nn\\modules\\loss.py:535: UserWarning: Using a target size (torch.Size([100, 6])) that is different to the input size (torch.Size([1, 100, 6])). This will likely lead to incorrect results due to broadcasting. Please ensure they have the same size.\n",
      "  return F.mse_loss(input, target, reduction=self.reduction)\n",
      " 96%|█████████▌| 96/100 [14:21<00:38,  9.62s/it]C:\\Users\\mwenn\\PycharmProjects\\ComTec-I\\venv\\Lib\\site-packages\\torch\\nn\\modules\\loss.py:535: UserWarning: Using a target size (torch.Size([100, 6])) that is different to the input size (torch.Size([1, 100, 6])). This will likely lead to incorrect results due to broadcasting. Please ensure they have the same size.\n",
      "  return F.mse_loss(input, target, reduction=self.reduction)\n",
      " 97%|█████████▋| 97/100 [14:31<00:28,  9.65s/it]C:\\Users\\mwenn\\PycharmProjects\\ComTec-I\\venv\\Lib\\site-packages\\torch\\nn\\modules\\loss.py:535: UserWarning: Using a target size (torch.Size([100, 6])) that is different to the input size (torch.Size([1, 100, 6])). This will likely lead to incorrect results due to broadcasting. Please ensure they have the same size.\n",
      "  return F.mse_loss(input, target, reduction=self.reduction)\n",
      " 98%|█████████▊| 98/100 [14:40<00:19,  9.64s/it]C:\\Users\\mwenn\\PycharmProjects\\ComTec-I\\venv\\Lib\\site-packages\\torch\\nn\\modules\\loss.py:535: UserWarning: Using a target size (torch.Size([100, 6])) that is different to the input size (torch.Size([1, 100, 6])). This will likely lead to incorrect results due to broadcasting. Please ensure they have the same size.\n",
      "  return F.mse_loss(input, target, reduction=self.reduction)\n",
      " 99%|█████████▉| 99/100 [14:50<00:09,  9.63s/it]C:\\Users\\mwenn\\PycharmProjects\\ComTec-I\\venv\\Lib\\site-packages\\torch\\nn\\modules\\loss.py:535: UserWarning: Using a target size (torch.Size([100, 6])) that is different to the input size (torch.Size([1, 100, 6])). This will likely lead to incorrect results due to broadcasting. Please ensure they have the same size.\n",
      "  return F.mse_loss(input, target, reduction=self.reduction)\n",
      "100%|██████████| 100/100 [15:00<00:00,  9.00s/it]\n"
     ]
    },
    {
     "data": {
      "text/plain": [
       "<Figure size 640x480 with 1 Axes>"
      ],
      "image/png": "[encoded data removed]"
     },
     "metadata": {},
     "output_type": "display_data"
    }
   ],
   "execution_count": 12
  },
  {
   "metadata": {
    "ExecuteTime": {
     "end_time": "2024-07-20T11:13:08.465027Z",
     "start_time": "2024-07-20T11:13:08.459229Z"
    }
   },
   "cell_type": "code",
   "source": [
    "l_min = float(\"inf\")\n",
    "for i,l in enumerate(mean_losses):\n",
    "    if l < l_min:\n",
    "        l_min = l\n",
    "    else:\n",
    "        print(f'Suggested epoch {i}')\n",
    "        break"
   ],
   "id": "a1973fdf0f92fab8",
   "outputs": [
    {
     "name": "stdout",
     "output_type": "stream",
     "text": [
      "Suggested epoch 9\n"
     ]
    }
   ],
   "execution_count": 13
  },
  {
   "metadata": {
    "ExecuteTime": {
     "end_time": "2024-07-20T12:11:25.149127Z",
     "start_time": "2024-07-20T12:11:25.064203Z"
    }
   },
   "cell_type": "code",
   "source": [
    "# find max epoch to prevent overfitting\n",
    "plot(mean_losses[:11])"
   ],
   "id": "867701ebe8c31b45",
   "outputs": [
    {
     "data": {
      "text/plain": [
       "<Figure size 640x480 with 1 Axes>"
      ],
      "image/png": "[encoded data removed]"
     },
     "metadata": {},
     "output_type": "display_data"
    }
   ],
   "execution_count": 21
  },
  {
   "metadata": {
    "ExecuteTime": {
     "end_time": "2024-07-20T11:13:08.597873Z",
     "start_time": "2024-07-20T11:13:08.595181Z"
    }
   },
   "cell_type": "code",
   "source": "",
   "id": "103b7c9bdd21003b",
   "outputs": [],
   "execution_count": 14
  }
 ],
 "metadata": {
  "kernelspec": {
   "display_name": "Python 3",
   "language": "python",
   "name": "python3"
  },
  "language_info": {
   "codemirror_mode": {
    "name": "ipython",
    "version": 2
   },
   "file_extension": ".py",
   "mimetype": "text/x-python",
   "name": "python",
   "nbconvert_exporter": "python",
   "pygments_lexer": "ipython2",
   "version": "2.7.6"
  }
 },
 "nbformat": 4,
 "nbformat_minor": 5
}
