{
 "cells": [
  {
   "metadata": {},
   "cell_type": "markdown",
   "source": "## LINEAR AUTOENCODER",
   "id": "ab7d2f664fbd97f6"
  },
  {
   "metadata": {
    "ExecuteTime": {
     "end_time": "2024-07-20T09:43:12.111981Z",
     "start_time": "2024-07-20T09:43:12.103705Z"
    }
   },
   "cell_type": "code",
   "source": [
    "# Parts of this code are inspired by \n",
    "# GeeksforGeeks (2022): Implementing an Autoencoder in PyTorch. Available online at https://www.geeksforgeeks.org/implementing-an-autoencoder-in-pytorch/, updated on 7/7/2022, checked on 7/16/2024."
   ],
   "id": "initial_id",
   "outputs": [],
   "execution_count": 1
  },
  {
   "metadata": {
    "ExecuteTime": {
     "end_time": "2024-07-20T09:43:14.350039Z",
     "start_time": "2024-07-20T09:43:12.135598Z"
    }
   },
   "cell_type": "code",
   "source": [
    "import torch\n",
    "import matplotlib.pyplot as plt\n",
    "from dataset.cycling_dataset import TorchCyclingDataset\n",
    "from notebooks.autoencoder.linear_ae import LINEAR_AE\n",
    "\n",
    "from tqdm import tqdm\n",
    "from statistics import mean\n",
    "import numpy as np"
   ],
   "id": "95ff0b14496232a5",
   "outputs": [
    {
     "name": "stderr",
     "output_type": "stream",
     "text": [
      "\n",
      "A module that was compiled using NumPy 1.x cannot be run in\n",
      "NumPy 2.0.0 as it may crash. To support both 1.x and 2.x\n",
      "versions of NumPy, modules must be compiled with NumPy 2.0.\n",
      "Some module may need to rebuild instead e.g. with 'pybind11>=2.12'.\n",
      "\n",
      "If you are a user of the module, the easiest solution will be to\n",
      "downgrade to 'numpy<2' or try to upgrade the affected module.\n",
      "We expect that some modules will need time to support NumPy 2.\n",
      "\n",
      "Traceback (most recent call last):  File \"<frozen runpy>\", line 198, in _run_module_as_main\n",
      "  File \"<frozen runpy>\", line 88, in _run_code\n",
      "  File \"C:\\Users\\mwenn\\PycharmProjects\\ComTec-I\\venv\\Lib\\site-packages\\ipykernel_launcher.py\", line 18, in <module>\n",
      "    app.launch_new_instance()\n",
      "  File \"C:\\Users\\mwenn\\PycharmProjects\\ComTec-I\\venv\\Lib\\site-packages\\traitlets\\config\\application.py\", line 1075, in launch_instance\n",
      "    app.start()\n",
      "  File \"C:\\Users\\mwenn\\PycharmProjects\\ComTec-I\\venv\\Lib\\site-packages\\ipykernel\\kernelapp.py\", line 739, in start\n",
      "    self.io_loop.start()\n",
      "  File \"C:\\Users\\mwenn\\PycharmProjects\\ComTec-I\\venv\\Lib\\site-packages\\tornado\\platform\\asyncio.py\", line 205, in start\n",
      "    self.asyncio_loop.run_forever()\n",
      "  File \"C:\\Program Files\\WindowsApps\\PythonSoftwareFoundation.Python.3.12_3.12.1264.0_x64__qbz5n2kfra8p0\\Lib\\asyncio\\base_events.py\", line 641, in run_forever\n",
      "    self._run_once()\n",
      "  File \"C:\\Program Files\\WindowsApps\\PythonSoftwareFoundation.Python.3.12_3.12.1264.0_x64__qbz5n2kfra8p0\\Lib\\asyncio\\base_events.py\", line 1987, in _run_once\n",
      "    handle._run()\n",
      "  File \"C:\\Program Files\\WindowsApps\\PythonSoftwareFoundation.Python.3.12_3.12.1264.0_x64__qbz5n2kfra8p0\\Lib\\asyncio\\events.py\", line 88, in _run\n",
      "    self._context.run(self._callback, *self._args)\n",
      "  File \"C:\\Users\\mwenn\\PycharmProjects\\ComTec-I\\venv\\Lib\\site-packages\\ipykernel\\kernelbase.py\", line 545, in dispatch_queue\n",
      "    await self.process_one()\n",
      "  File \"C:\\Users\\mwenn\\PycharmProjects\\ComTec-I\\venv\\Lib\\site-packages\\ipykernel\\kernelbase.py\", line 534, in process_one\n",
      "    await dispatch(*args)\n",
      "  File \"C:\\Users\\mwenn\\PycharmProjects\\ComTec-I\\venv\\Lib\\site-packages\\ipykernel\\kernelbase.py\", line 437, in dispatch_shell\n",
      "    await result\n",
      "  File \"C:\\Users\\mwenn\\PycharmProjects\\ComTec-I\\venv\\Lib\\site-packages\\ipykernel\\ipkernel.py\", line 362, in execute_request\n",
      "    await super().execute_request(stream, ident, parent)\n",
      "  File \"C:\\Users\\mwenn\\PycharmProjects\\ComTec-I\\venv\\Lib\\site-packages\\ipykernel\\kernelbase.py\", line 778, in execute_request\n",
      "    reply_content = await reply_content\n",
      "  File \"C:\\Users\\mwenn\\PycharmProjects\\ComTec-I\\venv\\Lib\\site-packages\\ipykernel\\ipkernel.py\", line 449, in do_execute\n",
      "    res = shell.run_cell(\n",
      "  File \"C:\\Users\\mwenn\\PycharmProjects\\ComTec-I\\venv\\Lib\\site-packages\\ipykernel\\zmqshell.py\", line 549, in run_cell\n",
      "    return super().run_cell(*args, **kwargs)\n",
      "  File \"C:\\Users\\mwenn\\PycharmProjects\\ComTec-I\\venv\\Lib\\site-packages\\IPython\\core\\interactiveshell.py\", line 3075, in run_cell\n",
      "    result = self._run_cell(\n",
      "  File \"C:\\Users\\mwenn\\PycharmProjects\\ComTec-I\\venv\\Lib\\site-packages\\IPython\\core\\interactiveshell.py\", line 3130, in _run_cell\n",
      "    result = runner(coro)\n",
      "  File \"C:\\Users\\mwenn\\PycharmProjects\\ComTec-I\\venv\\Lib\\site-packages\\IPython\\core\\async_helpers.py\", line 128, in _pseudo_sync_runner\n",
      "    coro.send(None)\n",
      "  File \"C:\\Users\\mwenn\\PycharmProjects\\ComTec-I\\venv\\Lib\\site-packages\\IPython\\core\\interactiveshell.py\", line 3334, in run_cell_async\n",
      "    has_raised = await self.run_ast_nodes(code_ast.body, cell_name,\n",
      "  File \"C:\\Users\\mwenn\\PycharmProjects\\ComTec-I\\venv\\Lib\\site-packages\\IPython\\core\\interactiveshell.py\", line 3517, in run_ast_nodes\n",
      "    if await self.run_code(code, result, async_=asy):\n",
      "  File \"C:\\Users\\mwenn\\PycharmProjects\\ComTec-I\\venv\\Lib\\site-packages\\IPython\\core\\interactiveshell.py\", line 3577, in run_code\n",
      "    exec(code_obj, self.user_global_ns, self.user_ns)\n",
      "  File \"C:\\Users\\mwenn\\AppData\\Local\\Temp\\ipykernel_4920\\1199498271.py\", line 1, in <module>\n",
      "    import torch\n",
      "  File \"C:\\Users\\mwenn\\PycharmProjects\\ComTec-I\\venv\\Lib\\site-packages\\torch\\__init__.py\", line 1477, in <module>\n",
      "    from .functional import *  # noqa: F403\n",
      "  File \"C:\\Users\\mwenn\\PycharmProjects\\ComTec-I\\venv\\Lib\\site-packages\\torch\\functional.py\", line 9, in <module>\n",
      "    import torch.nn.functional as F\n",
      "  File \"C:\\Users\\mwenn\\PycharmProjects\\ComTec-I\\venv\\Lib\\site-packages\\torch\\nn\\__init__.py\", line 1, in <module>\n",
      "    from .modules import *  # noqa: F403\n",
      "  File \"C:\\Users\\mwenn\\PycharmProjects\\ComTec-I\\venv\\Lib\\site-packages\\torch\\nn\\modules\\__init__.py\", line 35, in <module>\n",
      "    from .transformer import TransformerEncoder, TransformerDecoder, \\\n",
      "  File \"C:\\Users\\mwenn\\PycharmProjects\\ComTec-I\\venv\\Lib\\site-packages\\torch\\nn\\modules\\transformer.py\", line 20, in <module>\n",
      "    device: torch.device = torch.device(torch._C._get_default_device()),  # torch.device('cpu'),\n",
      "C:\\Users\\mwenn\\PycharmProjects\\ComTec-I\\venv\\Lib\\site-packages\\torch\\nn\\modules\\transformer.py:20: UserWarning: Failed to initialize NumPy: _ARRAY_API not found (Triggered internally at ..\\torch\\csrc\\utils\\tensor_numpy.cpp:84.)\n",
      "  device: torch.device = torch.device(torch._C._get_default_device()),  # torch.device('cpu'),\n"
     ]
    }
   ],
   "execution_count": 2
  },
  {
   "metadata": {
    "ExecuteTime": {
     "end_time": "2024-07-20T09:43:14.355435Z",
     "start_time": "2024-07-20T09:43:14.350039Z"
    }
   },
   "cell_type": "code",
   "source": "BATCH_SIZE = 8",
   "id": "f3bcfe2a6f7df81a",
   "outputs": [],
   "execution_count": 3
  },
  {
   "metadata": {
    "ExecuteTime": {
     "end_time": "2024-07-20T09:43:14.366566Z",
     "start_time": "2024-07-20T09:43:14.355944Z"
    }
   },
   "cell_type": "code",
   "source": [
    "def plot(losses):\n",
    "    # Defining the Plot Style\n",
    "    plt.style.use('fivethirtyeight')\n",
    "    plt.xlabel('Epoch')\n",
    "    plt.ylabel('Loss')\n",
    "     \n",
    "    # Plotting\n",
    "    plt.plot(losses)"
   ],
   "id": "fe9f436b96b73807",
   "outputs": [],
   "execution_count": 4
  },
  {
   "metadata": {
    "ExecuteTime": {
     "end_time": "2024-07-20T09:43:14.440721Z",
     "start_time": "2024-07-20T09:43:14.366566Z"
    }
   },
   "cell_type": "code",
   "source": [
    "# Load preprocessed datasets\n",
    "backwheel_test = TorchCyclingDataset(file_path_acc=\"../../data/preprocessed/backwheel_acc_test.h5\",\n",
    "                             file_path_gyro=\"../../data/preprocessed/backwheel_gyro_test.h5\")\n",
    "backwheel_train = TorchCyclingDataset(file_path_acc=\"../../data/preprocessed/backwheel_acc_train.h5\",\n",
    "                              file_path_gyro=\"../../data/preprocessed/backwheel_gyro_train.h5\")\n",
    "\n",
    "handlebar_test = TorchCyclingDataset(file_path_acc=\"../../data/preprocessed/handlebar_acc_test.h5\",\n",
    "                             file_path_gyro=\"../../data/preprocessed/handlebar_gyro_test.h5\")\n",
    "handlebar_train = TorchCyclingDataset(file_path_acc=\"../../data/preprocessed/handlebar_acc_train.h5\",\n",
    "                              file_path_gyro=\"../../data/preprocessed/handlebar_gyro_train.h5\")"
   ],
   "id": "7d5e332b614ffba",
   "outputs": [],
   "execution_count": 5
  },
  {
   "metadata": {
    "ExecuteTime": {
     "end_time": "2024-07-20T09:43:14.446281Z",
     "start_time": "2024-07-20T09:43:14.440721Z"
    }
   },
   "cell_type": "code",
   "source": [
    "# DataLoader is used to load the dataset \n",
    "# for training\n",
    "backwheel_test_loader = torch.utils.data.DataLoader(dataset = backwheel_test,\n",
    "                                     batch_size = BATCH_SIZE,\n",
    "                                     shuffle = True)\n",
    "backwheel_train_loader = torch.utils.data.DataLoader(dataset = backwheel_train,\n",
    "                                     batch_size = BATCH_SIZE,\n",
    "                                     shuffle = True)\n",
    "\n",
    "handlebar_test_loader = torch.utils.data.DataLoader(dataset = handlebar_test,\n",
    "                                     batch_size = BATCH_SIZE,\n",
    "                                     shuffle = True)\n",
    "handlebar_train_loader = torch.utils.data.DataLoader(dataset = handlebar_train,\n",
    "                                     batch_size = BATCH_SIZE,\n",
    "                                     shuffle = True)"
   ],
   "id": "c401e708525870e2",
   "outputs": [],
   "execution_count": 6
  },
  {
   "metadata": {
    "ExecuteTime": {
     "end_time": "2024-07-20T09:43:14.453501Z",
     "start_time": "2024-07-20T09:43:14.446281Z"
    }
   },
   "cell_type": "code",
   "source": "handlebar_train[0].shape",
   "id": "c01aa5c7fa7b7442",
   "outputs": [
    {
     "data": {
      "text/plain": [
       "torch.Size([100, 6])"
      ]
     },
     "execution_count": 7,
     "metadata": {},
     "output_type": "execute_result"
    }
   ],
   "execution_count": 7
  },
  {
   "metadata": {
    "ExecuteTime": {
     "end_time": "2024-07-20T09:43:14.459624Z",
     "start_time": "2024-07-20T09:43:14.453501Z"
    }
   },
   "cell_type": "code",
   "source": [
    "# from https://github.com/shobrook/sequitur/blob/master/sequitur/quick_train.py, 2024-07-20\n",
    "\n",
    "def train_model(model, train_set, verbose, lr, epochs):\n",
    "    # model.to(device)\n",
    "    optimizer = torch.optim.Adam(model.parameters(), lr=lr)\n",
    "    criterion = torch.nn.MSELoss()\n",
    "\n",
    "    mean_losses = []\n",
    "    for epoch in tqdm(range(1, epochs + 1)):\n",
    "        model.train()\n",
    "\n",
    "        losses = []\n",
    "        for x in train_set:\n",
    "            optimizer.zero_grad()\n",
    "\n",
    "            # Forward pass\n",
    "            x_prime = model(x)\n",
    "\n",
    "            loss = criterion(x_prime, x)\n",
    "\n",
    "            # Backward pass\n",
    "            loss.backward()\n",
    "            optimizer.step()\n",
    "    \n",
    "            losses.append(loss.item())\n",
    "\n",
    "        mean_loss = mean(losses)\n",
    "        mean_losses.append(mean_loss)\n",
    "\n",
    "        if verbose:\n",
    "            print(f\"Epoch: {epoch}, Loss: {mean_loss}\")\n",
    "            \n",
    "        torch.save(model.state_dict(), f'./saved_models/linear_encoder/linear_encoder-{epoch:0>{3}}_epoch.pt')\n",
    "        \n",
    "        # Plot per epoch\n",
    "        plot(mean_losses)\n",
    "\n",
    "    return mean_losses"
   ],
   "id": "17512a0dbdd01d62",
   "outputs": [],
   "execution_count": 8
  },
  {
   "metadata": {
    "ExecuteTime": {
     "end_time": "2024-07-20T09:43:14.471668Z",
     "start_time": "2024-07-20T09:43:14.460740Z"
    }
   },
   "cell_type": "code",
   "source": [
    "# Autoencoder model\n",
    "model = LINEAR_AE(input_dim=100*6,\n",
    "                  encoding_dim=100,\n",
    "                  h_dims=[512,256,128],\n",
    "                  )"
   ],
   "id": "7574bd17107323a0",
   "outputs": [],
   "execution_count": 9
  },
  {
   "metadata": {
    "ExecuteTime": {
     "end_time": "2024-07-20T09:43:14.477227Z",
     "start_time": "2024-07-20T09:43:14.471668Z"
    }
   },
   "cell_type": "code",
   "source": "model.encoder",
   "id": "d740218d37e2f69",
   "outputs": [
    {
     "data": {
      "text/plain": [
       "Encoder(\n",
       "  (nn): Sequential(\n",
       "    (0): Flatten(start_dim=1, end_dim=-1)\n",
       "    (1): Linear(in_features=600, out_features=512, bias=True)\n",
       "    (2): Sigmoid()\n",
       "    (3): Linear(in_features=512, out_features=256, bias=True)\n",
       "    (4): Sigmoid()\n",
       "    (5): Linear(in_features=256, out_features=128, bias=True)\n",
       "    (6): Sigmoid()\n",
       "    (7): Linear(in_features=128, out_features=100, bias=True)\n",
       "    (8): Tanh()\n",
       "  )\n",
       ")"
      ]
     },
     "execution_count": 10,
     "metadata": {},
     "output_type": "execute_result"
    }
   ],
   "execution_count": 10
  },
  {
   "metadata": {
    "ExecuteTime": {
     "end_time": "2024-07-20T09:43:14.483312Z",
     "start_time": "2024-07-20T09:43:14.477227Z"
    }
   },
   "cell_type": "code",
   "source": "model.decoder",
   "id": "a7afdc153c3c27dd",
   "outputs": [
    {
     "data": {
      "text/plain": [
       "Decoder(\n",
       "  (nn): Sequential(\n",
       "    (0): Linear(in_features=100, out_features=128, bias=True)\n",
       "    (1): Sigmoid()\n",
       "    (2): Linear(in_features=128, out_features=256, bias=True)\n",
       "    (3): Sigmoid()\n",
       "    (4): Linear(in_features=256, out_features=512, bias=True)\n",
       "    (5): Sigmoid()\n",
       "    (6): Linear(in_features=512, out_features=600, bias=True)\n",
       "    (7): Unflatten(dim=1, unflattened_size=(100, 6))\n",
       "  )\n",
       ")"
      ]
     },
     "execution_count": 11,
     "metadata": {},
     "output_type": "execute_result"
    }
   ],
   "execution_count": 11
  },
  {
   "metadata": {
    "ExecuteTime": {
     "end_time": "2024-07-20T09:54:07.153841Z",
     "start_time": "2024-07-20T09:43:14.483312Z"
    }
   },
   "cell_type": "code",
   "source": [
    "epochs = 100\n",
    "mean_losses = train_model(model, handlebar_train_loader, verbose=False, lr=1e-5, epochs=epochs)"
   ],
   "id": "b85ade9884f6210f",
   "outputs": [
    {
     "name": "stderr",
     "output_type": "stream",
     "text": [
      "100%|██████████| 100/100 [10:51<00:00,  6.52s/it]\n"
     ]
    },
    {
     "data": {
      "text/plain": [
       "<Figure size 640x480 with 1 Axes>"
      ],
      "image/png": "[encoded data removed]"
     },
     "metadata": {},
     "output_type": "display_data"
    }
   ],
   "execution_count": 12
  },
  {
   "metadata": {
    "ExecuteTime": {
     "end_time": "2024-07-20T09:54:07.159230Z",
     "start_time": "2024-07-20T09:54:07.154847Z"
    }
   },
   "cell_type": "code",
   "source": [
    "l_min = float(\"inf\")\n",
    "for i,l in enumerate(mean_losses):\n",
    "    if l < l_min:\n",
    "        l_min = l\n",
    "    else:\n",
    "        print(f'Suggested epoch {i}')\n",
    "        break"
   ],
   "id": "a1973fdf0f92fab8",
   "outputs": [
    {
     "name": "stdout",
     "output_type": "stream",
     "text": [
      "Suggested epoch 4\n"
     ]
    }
   ],
   "execution_count": 13
  },
  {
   "metadata": {
    "ExecuteTime": {
     "end_time": "2024-07-20T10:07:35.709815Z",
     "start_time": "2024-07-20T10:07:35.623326Z"
    }
   },
   "cell_type": "code",
   "source": [
    "# find max epoch to prevent overfitting\n",
    "plot(mean_losses[:33])"
   ],
   "id": "e9b32898984ecaff",
   "outputs": [
    {
     "data": {
      "text/plain": [
       "<Figure size 640x480 with 1 Axes>"
      ],
      "image/png": "[encoded data removed]"
     },
     "metadata": {},
     "output_type": "display_data"
    }
   ],
   "execution_count": 19
  },
  {
   "metadata": {
    "ExecuteTime": {
     "end_time": "2024-07-20T09:54:07.259170Z",
     "start_time": "2024-07-20T09:54:07.256707Z"
    }
   },
   "cell_type": "code",
   "source": "",
   "id": "ef2a81d6de16fbc0",
   "outputs": [],
   "execution_count": 14
  }
 ],
 "metadata": {
  "kernelspec": {
   "display_name": "Python 3",
   "language": "python",
   "name": "python3"
  },
  "language_info": {
   "codemirror_mode": {
    "name": "ipython",
    "version": 2
   },
   "file_extension": ".py",
   "mimetype": "text/x-python",
   "name": "python",
   "nbconvert_exporter": "python",
   "pygments_lexer": "ipython2",
   "version": "2.7.6"
  }
 },
 "nbformat": 4,
 "nbformat_minor": 5
}
