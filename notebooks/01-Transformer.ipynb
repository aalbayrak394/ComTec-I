{
 "cells": [
  {
   "cell_type": "code",
   "execution_count": 1,
   "metadata": {},
   "outputs": [],
   "source": [
    "import os, sys\n",
    "sys.path.append('..')\n",
    "\n",
    "import torch\n",
    "import torch.nn as nn"
   ]
  },
  {
   "cell_type": "code",
   "execution_count": 2,
   "metadata": {},
   "outputs": [],
   "source": [
    "class TimeSeriesTransformerAutoencoder(nn.Module):\n",
    "    def __init__(self, input_dim, model_dim, num_heads, num_layers, seq_length, dropout=0.1):\n",
    "        super(TimeSeriesTransformerAutoencoder, self).__init__()\n",
    "        self.embedding = nn.Linear(input_dim, model_dim)\n",
    "        self.pos_encoder = nn.Parameter(torch.zeros(1, seq_length, model_dim))\n",
    "        self.transformer_encoder = nn.TransformerEncoder(\n",
    "            nn.TransformerEncoderLayer(d_model=model_dim, nhead=num_heads, dropout=dropout),\n",
    "            num_layers=num_layers\n",
    "        )\n",
    "        self.transformer_decoder = nn.TransformerDecoder(\n",
    "            nn.TransformerDecoderLayer(d_model=model_dim, nhead=num_heads, dropout=dropout),\n",
    "            num_layers=num_layers\n",
    "        )\n",
    "        self.fc_out = nn.Linear(model_dim, input_dim)\n",
    "\n",
    "    def forward(self, x):\n",
    "        x = self.embedding(x) + self.pos_encoder\n",
    "        z = self.transformer_encoder(x)\n",
    "        x_rec = self.transformer_decoder(z, z)\n",
    "        return self.fc_out(x_rec)"
   ]
  },
  {
   "cell_type": "code",
   "execution_count": 4,
   "metadata": {},
   "outputs": [],
   "source": [
    "from dataset.cycling_dataset import CyclingDataset\n",
    "from torch.utils.data import DataLoader\n",
    "\n",
    "train_dataset = CyclingDataset(\n",
    "    file_path_acc='/Users/Aleyna/downloads/preprocessed/handlebar_acc_train.h5',\n",
    "    file_path_gyro='/Users/Aleyna/downloads/preprocessed/handlebar_gyro_train.h5',\n",
    ")\n",
    "\n",
    "test_dataset = CyclingDataset(\n",
    "    file_path_acc='/Users/Aleyna/downloads/preprocessed/handlebar_acc_test.h5',\n",
    "    file_path_gyro='/Users/Aleyna/downloads/preprocessed/handlebar_gyro_test.h5',\n",
    ")\n",
    "\n",
    "train_loader = DataLoader(train_dataset, batch_size=32, shuffle=True)\n",
    "test_loader = DataLoader(test_dataset, batch_size=32, shuffle=False)"
   ]
  }
 ],
 "metadata": {
  "kernelspec": {
   "display_name": "venv",
   "language": "python",
   "name": "python3"
  },
  "language_info": {
   "codemirror_mode": {
    "name": "ipython",
    "version": 3
   },
   "file_extension": ".py",
   "mimetype": "text/x-python",
   "name": "python",
   "nbconvert_exporter": "python",
   "pygments_lexer": "ipython3",
   "version": "3.12.4"
  }
 },
 "nbformat": 4,
 "nbformat_minor": 2
}
