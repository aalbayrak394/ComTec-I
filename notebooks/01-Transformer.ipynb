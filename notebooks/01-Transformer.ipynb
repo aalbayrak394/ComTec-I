{
 "cells": [
  {
   "cell_type": "code",
   "execution_count": 20,
   "metadata": {},
   "outputs": [],
   "source": [
    "import os, sys\n",
    "sys.path.append('..')\n",
    "from tqdm import tqdm\n",
    "\n",
    "import torch\n",
    "import torch.nn as nn\n",
    "import matplotlib.pyplot as plt "
   ]
  },
  {
   "cell_type": "code",
   "execution_count": 49,
   "metadata": {},
   "outputs": [],
   "source": [
    "class TimeSeriesTransformerAutoencoder(nn.Module):\n",
    "    def __init__(self, input_dim, model_dim, num_heads, num_layers, seq_length, dropout=0.1):\n",
    "        super(TimeSeriesTransformerAutoencoder, self).__init__()\n",
    "        self.embedding = nn.Linear(input_dim, model_dim)\n",
    "        self.pos_encoder = nn.Parameter(torch.zeros(1, seq_length, model_dim))\n",
    "        self.transformer_encoder = nn.TransformerEncoder(\n",
    "            nn.TransformerEncoderLayer(d_model=model_dim, nhead=num_heads, dropout=dropout, batch_first=True),\n",
    "            num_layers=num_layers,\n",
    "        )\n",
    "        self.transformer_decoder = nn.TransformerDecoder(\n",
    "            nn.TransformerDecoderLayer(d_model=model_dim, nhead=num_heads, dropout=dropout, batch_first=True),\n",
    "            num_layers=num_layers\n",
    "        )\n",
    "        self.fc_out = nn.Linear(model_dim, input_dim)\n",
    "\n",
    "    def forward(self, x):\n",
    "        x = self.embedding(x) + self.pos_encoder\n",
    "        z = self.transformer_encoder(x)\n",
    "        x_rec = self.transformer_decoder(z, z)\n",
    "        return self.fc_out(x_rec)\n",
    "    \n",
    "    def encode(self, x):\n",
    "        x = self.embedding(x) + self.pos_encoder\n",
    "        return self.transformer_encoder(x)"
   ]
  },
  {
   "cell_type": "code",
   "execution_count": 50,
   "metadata": {},
   "outputs": [],
   "source": [
    "from dataset.cycling_dataset import CyclingDataset\n",
    "from torch.utils.data import DataLoader\n",
    "\n",
    "train_dataset = CyclingDataset(\n",
    "    file_path_acc='/Users/Aleyna/downloads/preprocessed/handlebar_acc_train.h5',\n",
    "    file_path_gyro='/Users/Aleyna/downloads/preprocessed/handlebar_gyro_train.h5',\n",
    ")\n",
    "\n",
    "test_dataset = CyclingDataset(\n",
    "    file_path_acc='/Users/Aleyna/downloads/preprocessed/handlebar_acc_test.h5',\n",
    "    file_path_gyro='/Users/Aleyna/downloads/preprocessed/handlebar_gyro_test.h5',\n",
    ")\n",
    "\n",
    "train_loader = DataLoader(train_dataset, batch_size=32, shuffle=True)\n",
    "test_loader = DataLoader(test_dataset, batch_size=32, shuffle=False)"
   ]
  },
  {
   "cell_type": "code",
   "execution_count": 51,
   "metadata": {},
   "outputs": [
    {
     "name": "stderr",
     "output_type": "stream",
     "text": [
      "100%|██████████| 154/154 [01:43<00:00,  1.49it/s]\n"
     ]
    }
   ],
   "source": [
    "model = TimeSeriesTransformerAutoencoder(input_dim=6, model_dim=16, num_heads=4, num_layers=4, seq_length=100)\n",
    "criterion = nn.MSELoss()\n",
    "optimizer = torch.optim.Adam(model.parameters(), lr=1e-4)\n",
    "\n",
    "train_losses = []\n",
    "val_losses = []\n",
    "\n",
    "for epoch in range(1):\n",
    "    model.train()\n",
    "    for x, _ in tqdm(train_loader):\n",
    "        x_rec = model(x)\n",
    "        loss = torch.sqrt(criterion(x_rec, x)) # RMSE (reconstruction error)\n",
    "        optimizer.zero_grad()\n",
    "        loss.backward()\n",
    "        optimizer.step()\n",
    "        train_losses.append(loss.item())\n",
    "\n",
    "    model.eval()\n",
    "    with torch.no_grad():\n",
    "        for i, (x, _) in enumerate(test_loader):\n",
    "            x_rec = model(x)\n",
    "            loss = torch.sqrt(criterion(x_rec, x))\n",
    "            val_losses.append(loss.item())\n",
    "\n",
    "    torch.save(model.state_dict(), 'transformer_autoencoder.pth')"
   ]
  },
  {
   "cell_type": "code",
   "execution_count": 53,
   "metadata": {},
   "outputs": [
    {
     "data": {
      "text/plain": [
       "torch.Size([1, 100, 16])"
      ]
     },
     "execution_count": 53,
     "metadata": {},
     "output_type": "execute_result"
    }
   ],
   "source": [
    "model.encode(torch.randn(1, 100, 6)).shape"
   ]
  }
 ],
 "metadata": {
  "kernelspec": {
   "display_name": "venv",
   "language": "python",
   "name": "python3"
  },
  "language_info": {
   "codemirror_mode": {
    "name": "ipython",
    "version": 3
   },
   "file_extension": ".py",
   "mimetype": "text/x-python",
   "name": "python",
   "nbconvert_exporter": "python",
   "pygments_lexer": "ipython3",
   "version": "3.12.4"
  }
 },
 "nbformat": 4,
 "nbformat_minor": 2
}
